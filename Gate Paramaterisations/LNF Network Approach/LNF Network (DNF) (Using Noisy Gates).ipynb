{
 "cells": [
  {
   "cell_type": "code",
   "execution_count": 4,
   "metadata": {
    "collapsed": true
   },
   "outputs": [],
   "source": [
    "import autograd.numpy as np\n",
    "from autograd import grad"
   ]
  },
  {
   "cell_type": "code",
   "execution_count": 5,
   "metadata": {
    "collapsed": true
   },
   "outputs": [],
   "source": [
    "class ORNeuron():\n",
    "    def __init__(self, n):\n",
    "        self.n = n\n",
    "        self.weights = np.random.rand(n)\n",
    "        \n",
    "    def getWeights(self):\n",
    "        return self.weights    \n",
    "    \n",
    "    def present(self, inputs):\n",
    "        z = np.sum(np.multiply(inputs, self.weights))\n",
    "        return 1 - np.power(np.e, -z)\n",
    "    \n",
    "    def updateWeights(self, g):\n",
    "        self.weights -= g\n",
    "        \n",
    "        for i in range(0, len(self.weights)):\n",
    "            if self.weights[i] < 0:\n",
    "                self.weights[i] = 0\n",
    "        \n",
    "    def setGrad(self, g):\n",
    "        self.grad = g\n",
    "        \n",
    "    def applyGrad(self):\n",
    "        self.updateWeights(self.grad)\n",
    "        self.grad = None\n",
    "        \n",
    "    def __repr__(self):\n",
    "        return str(self.weights[1:len(self.weights)])"
   ]
  },
  {
   "cell_type": "code",
   "execution_count": 6,
   "metadata": {
    "collapsed": true
   },
   "outputs": [],
   "source": [
    "class ANDNeuron():\n",
    "    def __init__(self, n):\n",
    "        self.weights = np.random.rand(n)\n",
    "        \n",
    "    def getWeights(self):\n",
    "        return self.weights\n",
    "        \n",
    "    def present(self, inputs):\n",
    "        i = 1.0 - inputs\n",
    "        i[0] = 1.0\n",
    "        \n",
    "        z = np.sum(np.multiply(i, self.weights))\n",
    "        return np.power(np.e, -z)\n",
    "    \n",
    "    def updateWeights(self, g):\n",
    "        self.weights -= g\n",
    "        \n",
    "        for i in range(0, len(self.weights)):\n",
    "            if self.weights[i] < 0:\n",
    "                self.weights[i] = 0\n",
    "        \n",
    "    def setGrad(self, g):\n",
    "        self.grad = g\n",
    "        \n",
    "    def applyGrad(self):\n",
    "        self.updateWeights(self.grad)\n",
    "        self.grad = None\n",
    "        \n",
    "    def __repr__(self):\n",
    "        return str(self.weights[1:len(self.weights)])"
   ]
  },
  {
   "cell_type": "code",
   "execution_count": 7,
   "metadata": {
    "collapsed": true
   },
   "outputs": [],
   "source": [
    "class DNFNetwork():\n",
    "    def __init__(self, n, c):\n",
    "        self.n = n\n",
    "        self.c = c\n",
    "        \n",
    "        d = []\n",
    "        for i in range(0, c):\n",
    "            d.append(ANDNeuron(n*2 + 1))\n",
    "        \n",
    "        self.conjunctions = np.array(d)\n",
    "        \n",
    "        if not c == 0:\n",
    "            self.disjunction = ORNeuron(c + 1)\n",
    "        else:\n",
    "            self.disjunction = ORNeuron(n*2 + 1)\n",
    "        \n",
    "    def getDisjunction(self):\n",
    "        return self.disjunction\n",
    "    \n",
    "    def getConjunctions(self):\n",
    "        return self.conjunctions\n",
    "    \n",
    "    def fowardprop(self, inputs):\n",
    "        actualIn = self.__convertInputs__(inputs)\n",
    "        \n",
    "        if not self.c == 0:\n",
    "            dout = [1]\n",
    "            for d in self.conjunctions:\n",
    "                dout.append(d.present(actualIn))\n",
    "            \n",
    "            actualIn = dout\n",
    "            \n",
    "        return self.disjunction.present(np.array(actualIn))\n",
    "    \n",
    "    def __convertInputs__(self, inputs):\n",
    "        actual = [1]\n",
    "        \n",
    "        for i in inputs:\n",
    "            actual.append(i)\n",
    "            actual.append(1-i)\n",
    "        \n",
    "        return np.array(actual)\n",
    "    \n",
    "    def __repr__(self):\n",
    "        s = \"Conjunctions -> \"\n",
    "        for d in self.conjunctions:\n",
    "            s += (str(d) + \", \")\n",
    "            \n",
    "        s += (\"\\nDisjunction -> \" + str(self.disjunction) + \"\\n\")\n",
    "            \n",
    "        return s"
   ]
  },
  {
   "cell_type": "code",
   "execution_count": 8,
   "metadata": {
    "collapsed": true
   },
   "outputs": [],
   "source": [
    "def SSE(network, data, targets, p=False):\n",
    "    predictions = predict(network, data)\n",
    "    \n",
    "#     if p:\n",
    "#         print(predictions)\n",
    "    \n",
    "    return np.sum(np.power(np.subtract(targets, predictions), 2.0))\n",
    "    \n",
    "def predict(network, data):\n",
    "    t = np.array([network.fowardprop(d) for d in data])\n",
    "    return t\n",
    "    "
   ]
  },
  {
   "cell_type": "code",
   "execution_count": 9,
   "metadata": {
    "collapsed": true
   },
   "outputs": [],
   "source": [
    "def trainDNFNetwork(data, targets, inputNodes, numC, it=10000, lr=0.1):\n",
    "    network = DNFNetwork(inputNodes, numC)\n",
    "    print(network)\n",
    "    print(\"Initial Loss: \", SSE(network, data, targets, True))\n",
    "    \n",
    "    pterb = 0.0001\n",
    "    \n",
    "    for i in range(1, it):\n",
    "        if i%1000 == 0:\n",
    "            print(\"Iteration -> \" + str(i) + \" : \" + str(SSE(network, data, targets)))\n",
    "            \n",
    "        for d in network.getConjunctions():\n",
    "            g = computeNeuronGrad(network, d, pterb, data, targets)\n",
    "            d.setGrad(g * lr)\n",
    "            \n",
    "        g = computeNeuronGrad(network, network.getDisjunction(), pterb, data, targets)\n",
    "        \n",
    "        network.getDisjunction().updateWeights(g * lr)\n",
    "        for d in network.getConjunctions():\n",
    "            d.applyGrad()\n",
    "            \n",
    "    print(\"Trained Loss: \", SSE(network, data, targets, True))\n",
    "    return network\n",
    "\n",
    "def computeNeuronGrad(network, neuron, pterb, data, targets):\n",
    "    gradient = np.zeros(len(neuron.getWeights()))\n",
    "    for k in range(0, len(neuron.getWeights())):\n",
    "        g = np.zeros(len(neuron.getWeights()))\n",
    "        g[k] = -pterb\n",
    "\n",
    "        oldSSE = SSE(network, data, targets)\n",
    "        neuron.updateWeights(g)\n",
    "        newSSE = SSE(network, data, targets)\n",
    "        neuron.updateWeights(-g)\n",
    "                \n",
    "        gradient[k] = (newSSE - oldSSE)/pterb\n",
    "        \n",
    "    return gradient"
   ]
  },
  {
   "cell_type": "markdown",
   "metadata": {},
   "source": [
    "# NOT"
   ]
  },
  {
   "cell_type": "code",
   "execution_count": 10,
   "metadata": {
    "collapsed": false
   },
   "outputs": [
    {
     "name": "stdout",
     "output_type": "stream",
     "text": [
      "Conjunctions -> \n",
      "Disjunction -> [ 0.34971638  0.47671763]\n",
      "\n",
      "Initial Loss:  0.468174751486\n",
      "Iteration -> 1000 : 0.00255550496567\n",
      "Iteration -> 2000 : 0.00126576353968\n",
      "Iteration -> 3000 : 0.000840833798146\n",
      "Iteration -> 4000 : 0.000629417685302\n",
      "Iteration -> 5000 : 0.000502926583436\n",
      "Iteration -> 6000 : 0.000418755712167\n",
      "Iteration -> 7000 : 0.000358713130872\n",
      "Iteration -> 8000 : 0.000313725938633\n",
      "Iteration -> 9000 : 0.000278763070742\n",
      "Trained Loss:  0.000250810257184\n"
     ]
    },
    {
     "data": {
      "text/plain": [
       "Conjunctions -> \n",
       "Disjunction -> [ 0.          4.14528646]"
      ]
     },
     "execution_count": 10,
     "metadata": {},
     "output_type": "execute_result"
    }
   ],
   "source": [
    "dataNOT = np.array([[1.0], [0.0]])\n",
    "targetsNOT = np.array([0.0, 1.0])\n",
    "trainDNFNetwork(dataNOT, targetsNOT, 1, 0)"
   ]
  },
  {
   "cell_type": "markdown",
   "metadata": {},
   "source": [
    "# AND\n",
    "For this we dont neeed any disjunctions"
   ]
  },
  {
   "cell_type": "code",
   "execution_count": null,
   "metadata": {
    "collapsed": true
   },
   "outputs": [],
   "source": []
  },
  {
   "cell_type": "code",
   "execution_count": 11,
   "metadata": {
    "collapsed": false,
    "scrolled": true
   },
   "outputs": [
    {
     "name": "stdout",
     "output_type": "stream",
     "text": [
      "Conjunctions -> [ 0.67524429  0.82908423  0.59884532  0.26151093], \n",
      "Disjunction -> [ 0.66211634]\n",
      "\n",
      "Initial Loss:  0.733235577764\n",
      "Iteration -> 1000 : 0.014361665406\n",
      "Iteration -> 2000 : 0.00657302649531\n",
      "Iteration -> 3000 : 0.00418802338239\n",
      "Iteration -> 4000 : 0.00305123267219\n",
      "Iteration -> 5000 : 0.00239081121983\n",
      "Iteration -> 6000 : 0.00196090584645\n",
      "Iteration -> 7000 : 0.00165950585428\n",
      "Iteration -> 8000 : 0.00143685808519\n",
      "Iteration -> 9000 : 0.00126586929347\n",
      "Trained Loss:  0.00113055144934\n"
     ]
    },
    {
     "data": {
      "text/plain": [
       "Conjunctions -> [ 5.33176166  0.          5.33167858  0.        ], \n",
       "Disjunction -> [ 3.85498973]"
      ]
     },
     "execution_count": 11,
     "metadata": {},
     "output_type": "execute_result"
    }
   ],
   "source": [
    "dataAND = np.array([[0.0, 0.0], [0.0, 1.0], [1.0, 0.0], [1.0, 1.0]])\n",
    "targetsAND = np.array([0.0, 0.0, 0.0, 1.0])\n",
    "trainDNFNetwork(dataAND, targetsAND, 2, 1)"
   ]
  },
  {
   "cell_type": "markdown",
   "metadata": {
    "collapsed": true
   },
   "source": [
    "# OR"
   ]
  },
  {
   "cell_type": "code",
   "execution_count": 12,
   "metadata": {
    "collapsed": false
   },
   "outputs": [
    {
     "name": "stdout",
     "output_type": "stream",
     "text": [
      "Conjunctions -> \n",
      "Disjunction -> [ 0.13090894  0.86050171  0.57310611  0.96353061]\n",
      "\n",
      "Initial Loss:  0.949547283017\n",
      "Iteration -> 1000 : 0.00529712866834\n",
      "Iteration -> 2000 : 0.00257887405663\n",
      "Iteration -> 3000 : 0.00170304840819\n",
      "Iteration -> 4000 : 0.00127101806606\n",
      "Iteration -> 5000 : 0.00101373340023\n",
      "Iteration -> 6000 : 0.000843033158886\n",
      "Iteration -> 7000 : 0.000721514550327\n",
      "Iteration -> 8000 : 0.000630603240704\n",
      "Iteration -> 9000 : 0.000560031097652\n",
      "Trained Loss:  0.000503660461708\n"
     ]
    },
    {
     "data": {
      "text/plain": [
       "Conjunctions -> \n",
       "Disjunction -> [ 4.14290141  0.          4.14348122  0.        ]"
      ]
     },
     "execution_count": 12,
     "metadata": {},
     "output_type": "execute_result"
    }
   ],
   "source": [
    "dataOR = np.array([[0.0, 0.0], [0.0, 1.0], [1.0, 0.0], [1.0, 1.0]])\n",
    "targetsOR = np.array([0.0, 1.0, 1.0, 1.0])\n",
    "trainDNFNetwork(dataOR, targetsOR, 2, 0)"
   ]
  },
  {
   "cell_type": "markdown",
   "metadata": {},
   "source": [
    "# NAND"
   ]
  },
  {
   "cell_type": "code",
   "execution_count": 13,
   "metadata": {
    "collapsed": false
   },
   "outputs": [
    {
     "name": "stdout",
     "output_type": "stream",
     "text": [
      "Conjunctions -> [ 0.64171082  0.43376487  0.40529173  0.9580646 ], [ 0.88923648  0.8740357   0.45839689  0.79283883], \n",
      "Disjunction -> [ 0.71163048  0.98976163]\n",
      "\n",
      "Initial Loss:  0.733577449722\n",
      "Iteration -> 1000 : 0.0203823208502\n",
      "Iteration -> 2000 : 0.00869579609739\n",
      "Iteration -> 3000 : 0.00543299376684\n",
      "Iteration -> 4000 : 0.00392035480254\n",
      "Iteration -> 5000 : 0.00305432719455\n",
      "Iteration -> 6000 : 0.00249571800261\n",
      "Iteration -> 7000 : 0.00210654414517\n",
      "Iteration -> 8000 : 0.00182037602956\n",
      "Iteration -> 9000 : 0.00160137372014\n",
      "Trained Loss:  0.00142853554136\n"
     ]
    },
    {
     "data": {
      "text/plain": [
       "Conjunctions -> [ 0.          0.          0.          5.68376305], [ 0.         5.6763126  0.         0.       ], \n",
       "Disjunction -> [ 3.95341719  3.94885333]"
      ]
     },
     "execution_count": 13,
     "metadata": {},
     "output_type": "execute_result"
    }
   ],
   "source": [
    "dataNAND = np.array([[0.0, 0.0], [0.0, 1.0], [1.0, 0.0], [1.0, 1.0]])\n",
    "targetsNAND = np.array([1.0, 1.0, 1.0, 0.0])\n",
    "trainDNFNetwork(dataNAND, targetsNAND, 2, 2)"
   ]
  },
  {
   "cell_type": "markdown",
   "metadata": {},
   "source": [
    "# NOR"
   ]
  },
  {
   "cell_type": "code",
   "execution_count": 14,
   "metadata": {
    "collapsed": false
   },
   "outputs": [
    {
     "name": "stdout",
     "output_type": "stream",
     "text": [
      "Conjunctions -> [ 0.15205754  0.74725226  0.45301883  0.84495817], \n",
      "Disjunction -> [ 0.8828049]\n",
      "\n",
      "Initial Loss:  0.815703445604\n",
      "Iteration -> 1000 : 0.0141330108765\n",
      "Iteration -> 2000 : 0.00652111132194\n",
      "Iteration -> 3000 : 0.00416616708119\n",
      "Iteration -> 4000 : 0.00303937087298\n",
      "Iteration -> 5000 : 0.00238341471076\n",
      "Iteration -> 6000 : 0.00195587160465\n",
      "Iteration -> 7000 : 0.00165586659795\n",
      "Iteration -> 8000 : 0.00143410893489\n",
      "Iteration -> 9000 : 0.0012637217351\n",
      "Trained Loss:  0.00112882896973\n"
     ]
    },
    {
     "data": {
      "text/plain": [
       "Conjunctions -> [ 0.          5.33265658  0.          5.33270657], \n",
       "Disjunction -> [ 3.85576644]"
      ]
     },
     "execution_count": 14,
     "metadata": {},
     "output_type": "execute_result"
    }
   ],
   "source": [
    "dataNAND = np.array([[0.0, 0.0], [0.0, 1.0], [1.0, 0.0], [1.0, 1.0]])\n",
    "targetsNAND = np.array([1.0, 0.0, 0.0, 0.0])\n",
    "trainDNFNetwork(dataNAND, targetsNAND, 2, 1)"
   ]
  },
  {
   "cell_type": "markdown",
   "metadata": {},
   "source": [
    "# XOR"
   ]
  },
  {
   "cell_type": "code",
   "execution_count": 15,
   "metadata": {
    "collapsed": false
   },
   "outputs": [
    {
     "name": "stdout",
     "output_type": "stream",
     "text": [
      "Conjunctions -> [ 0.28515535  0.9984187   0.28713999  0.0147803 ], [ 0.0443784   0.1627957   0.85362651  0.60441   ], \n",
      "Disjunction -> [ 0.83370639  0.6395919 ]\n",
      "\n",
      "Initial Loss:  1.11856733996\n",
      "Iteration -> 1000 : 0.042381630163\n",
      "Iteration -> 2000 : 0.0158265949478\n",
      "Iteration -> 3000 : 0.00947380492484\n",
      "Iteration -> 4000 : 0.00669615998895\n",
      "Iteration -> 5000 : 0.00515347821174\n",
      "Iteration -> 6000 : 0.00417683805077\n",
      "Iteration -> 7000 : 0.00350502331592\n",
      "Iteration -> 8000 : 0.00301556495362\n",
      "Iteration -> 9000 : 0.00264361212448\n",
      "Trained Loss:  0.00235168925604\n"
     ]
    },
    {
     "data": {
      "text/plain": [
       "Conjunctions -> [ 0.          5.66123891  5.66230458  0.        ], [ 5.63493607  0.          0.          5.63609754], \n",
       "Disjunction -> [ 3.84149539  3.8330935 ]"
      ]
     },
     "execution_count": 15,
     "metadata": {},
     "output_type": "execute_result"
    }
   ],
   "source": [
    "dataNAND = np.array([[0.0, 0.0], [0.0, 1.0], [1.0, 0.0], [1.0, 1.0]])\n",
    "targetsNAND = np.array([0.0, 1.0, 1.0, 0.0])\n",
    "trainDNFNetwork(dataNAND, targetsNAND, 2, 2)"
   ]
  },
  {
   "cell_type": "markdown",
   "metadata": {
    "collapsed": true
   },
   "source": [
    "# IMPLIES"
   ]
  },
  {
   "cell_type": "code",
   "execution_count": 16,
   "metadata": {
    "collapsed": false
   },
   "outputs": [
    {
     "name": "stdout",
     "output_type": "stream",
     "text": [
      "Conjunctions -> [ 0.92762178  0.74723084  0.82329901  0.52798605], [ 0.56419037  0.29670784  0.5215163   0.64670516], \n",
      "Disjunction -> [ 0.65578238  0.8353529 ]\n",
      "\n",
      "Initial Loss:  0.801452834999\n",
      "Iteration -> 1000 : 0.0252903217958\n",
      "Iteration -> 2000 : 0.00865738647693\n",
      "Iteration -> 3000 : 0.00529899847186\n",
      "Iteration -> 4000 : 0.0038248584522\n",
      "Iteration -> 5000 : 0.00298801749851\n",
      "Iteration -> 6000 : 0.00244800178317\n",
      "Iteration -> 7000 : 0.00207088042524\n",
      "Iteration -> 8000 : 0.00179283729137\n",
      "Iteration -> 9000 : 0.00157952640688\n",
      "Trained Loss:  0.00141081120629\n"
     ]
    },
    {
     "data": {
      "text/plain": [
       "Conjunctions -> [ 0.          0.          5.66663643  0.        ], [ 0.          5.70299334  0.          0.        ], \n",
       "Disjunction -> [ 3.94208533  3.98211456]"
      ]
     },
     "execution_count": 16,
     "metadata": {},
     "output_type": "execute_result"
    }
   ],
   "source": [
    "dataIMPLYS = np.array([[0.0, 0.0], [0.0, 1.0], [1.0, 0.0], [1.0, 1.0]])\n",
    "targetsIMPLYS = np.array([1.0, 1.0, 0.0, 1.0])\n",
    "trainDNFNetwork(dataIMPLYS, targetsIMPLYS, 2, 2)"
   ]
  },
  {
   "cell_type": "markdown",
   "metadata": {},
   "source": [
    "# 3OR"
   ]
  },
  {
   "cell_type": "code",
   "execution_count": 17,
   "metadata": {
    "collapsed": false
   },
   "outputs": [
    {
     "name": "stdout",
     "output_type": "stream",
     "text": [
      "Conjunctions -> [ 0.07459963  0.68774625  0.766645    0.26554315  0.81294702  0.49648961], [ 0.99621017  0.52863637  0.89206277  0.43079252  0.84762626  0.60465774], [ 0.11000533  0.8178977   0.41860085  0.2825127   0.11027626  0.99678715], \n",
      "Disjunction -> [ 0.67104618  0.34862329  0.62978442]\n",
      "\n",
      "Initial Loss:  1.20817645143\n",
      "Iteration -> 1000 : 0.128256976716\n",
      "Iteration -> 2000 : 0.0193558100619\n",
      "Iteration -> 3000 : 0.00962738108176\n",
      "Iteration -> 4000 : 0.0063543018228\n",
      "Iteration -> 5000 : 0.0047180361903\n",
      "Iteration -> 6000 : 0.00373980795576\n",
      "Iteration -> 7000 : 0.00309092551934\n",
      "Iteration -> 8000 : 0.00263064204556\n",
      "Iteration -> 9000 : 0.0022930441829\n",
      "Trained Loss:  0.00203429632008\n"
     ]
    },
    {
     "data": {
      "text/plain": [
       "Conjunctions -> [ 0.          0.          0.          0.          5.93385491  0.        ], [ 5.89643883  0.          0.          0.          0.          0.        ], [ 0.          0.25020642  5.80731052  0.          0.          0.53561631], \n",
       "Disjunction -> [ 4.42995525  3.94392556  3.88890387]"
      ]
     },
     "execution_count": 17,
     "metadata": {},
     "output_type": "execute_result"
    }
   ],
   "source": [
    "data3OR = np.array([[0.0, 0.0, 0.0], [0.0, 0.0, 1.0], [0.0, 1.0, 0.0], [0.0, 1.0, 1.0], [1.0, 0.0, 0.0], [1.0, 0.0, 1.0], [1.0, 1.0, 0.0], [1.0, 1.0, 1.0]])\n",
    "targets3OR = np.array([0.0, 1.0, 1.0, 1.0, 1.0, 1.0, 1.0, 1.0])\n",
    "trainDNFNetwork(data3OR, targets3OR, 3, 3)"
   ]
  },
  {
   "cell_type": "markdown",
   "metadata": {},
   "source": [
    "# 3AND"
   ]
  },
  {
   "cell_type": "code",
   "execution_count": 18,
   "metadata": {
    "collapsed": false
   },
   "outputs": [
    {
     "name": "stdout",
     "output_type": "stream",
     "text": [
      "Conjunctions -> [ 0.59065129  0.4760426   0.1563      0.42635342  0.96851225  0.05086042], \n",
      "Disjunction -> [ 0.33788163]\n",
      "\n",
      "Initial Loss:  1.21525613603\n",
      "Iteration -> 1000 : 0.0213217368821\n",
      "Iteration -> 2000 : 0.00956649622599\n",
      "Iteration -> 3000 : 0.00603680103303\n",
      "Iteration -> 4000 : 0.00437209880251\n",
      "Iteration -> 5000 : 0.00341163046256\n",
      "Iteration -> 6000 : 0.00278950530856\n",
      "Iteration -> 7000 : 0.00235499954926\n",
      "Iteration -> 8000 : 0.00203499937153\n",
      "Iteration -> 9000 : 0.00178986073404\n",
      "Trained Loss:  0.00159627111704\n"
     ]
    },
    {
     "data": {
      "text/plain": [
       "Conjunctions -> [ 5.29497867  0.          5.29488132  0.          5.29507229  0.        ], \n",
       "Disjunction -> [ 3.74791997]"
      ]
     },
     "execution_count": 18,
     "metadata": {},
     "output_type": "execute_result"
    }
   ],
   "source": [
    "data3AND = np.array([[0.0, 0.0, 0.0], [0.0, 0.0, 1.0], [0.0, 1.0, 0.0], [0.0, 1.0, 1.0], [1.0, 0.0, 0.0], [1.0, 0.0, 1.0], [1.0, 1.0, 0.0], [1.0, 1.0, 1.0]])\n",
    "targets3AND = np.array([0.0, 0.0, 0.0, 0.0, 0.0, 0.0, 0.0, 1.0])\n",
    "trainDNFNetwork(data3AND, targets3AND, 3, 1)"
   ]
  },
  {
   "cell_type": "code",
   "execution_count": null,
   "metadata": {
    "collapsed": true
   },
   "outputs": [],
   "source": []
  },
  {
   "cell_type": "markdown",
   "metadata": {
    "collapsed": true
   },
   "source": [
    "# Complicated Formula"
   ]
  },
  {
   "cell_type": "markdown",
   "metadata": {},
   "source": [
    "## (a AND b) OR (NOT c)"
   ]
  },
  {
   "cell_type": "code",
   "execution_count": 19,
   "metadata": {
    "collapsed": false
   },
   "outputs": [
    {
     "name": "stdout",
     "output_type": "stream",
     "text": [
      "Conjunctions -> [ 0.91990375  0.73032488  0.29522916  0.66688734  0.3335586   0.49088265], [ 0.36828615  0.50081645  0.45397834  0.9016962   0.43723996  0.63695044], \n",
      "Disjunction -> [ 0.32828048  0.95514621]\n",
      "\n",
      "Initial Loss:  1.87638430608\n",
      "Iteration -> 1000 : 0.0368890943724\n",
      "Iteration -> 2000 : 0.0117828528827\n",
      "Iteration -> 3000 : 0.00681469035443\n",
      "Iteration -> 4000 : 0.00476576280874\n",
      "Iteration -> 5000 : 0.00365295385594\n",
      "Iteration -> 6000 : 0.0029568925369\n",
      "Iteration -> 7000 : 0.00248742116719\n",
      "Iteration -> 8000 : 0.00214959432065\n",
      "Iteration -> 9000 : 0.00189396246443\n",
      "Trained Loss:  0.00169352127657\n"
     ]
    },
    {
     "data": {
      "text/plain": [
       "Conjunctions -> [ 5.46040129  0.          5.45982407  0.          0.          0.        ], [ 0.          0.          0.          0.          0.          6.63753251], \n",
       "Disjunction -> [ 3.82081175  4.85255895]"
      ]
     },
     "execution_count": 19,
     "metadata": {},
     "output_type": "execute_result"
    }
   ],
   "source": [
    "dataInteresting1 = np.array([[0.0, 0.0, 0.0], [0.0, 0.0, 1.0], [0.0, 1.0, 0.0], [0.0, 1.0, 1.0], [1.0, 0.0, 0.0], [1.0, 0.0, 1.0], [1.0, 1.0, 0.0], [1.0, 1.0, 1.0]])\n",
    "targetsInteresting1 = np.array([1.0, 0.0, 1.0, 0.0, 1.0, 0.0, 1.0, 1.0])\n",
    "trainDNFNetwork(dataInteresting1, targetsInteresting1, 3, 2)"
   ]
  },
  {
   "cell_type": "markdown",
   "metadata": {},
   "source": [
    "## NOT ( a AND b AND c)"
   ]
  },
  {
   "cell_type": "code",
   "execution_count": 20,
   "metadata": {
    "collapsed": false
   },
   "outputs": [
    {
     "name": "stdout",
     "output_type": "stream",
     "text": [
      "Conjunctions -> [ 0.82964757  0.44193089  0.89828838  0.8291308   0.75368753  0.66273073], \n",
      "Disjunction -> [ 0.23147714]\n",
      "\n",
      "Initial Loss:  3.27104384604\n",
      "Iteration -> 1000 : 0.623472325245\n",
      "Iteration -> 2000 : 0.400745490465\n",
      "Iteration -> 3000 : 0.358421934946\n",
      "Iteration -> 4000 : 0.33491803788\n",
      "Iteration -> 5000 : 0.318780281646\n",
      "Iteration -> 6000 : 0.306567552403\n",
      "Iteration -> 7000 : 0.296788317751\n",
      "Iteration -> 8000 : 0.288662207207\n",
      "Iteration -> 9000 : 0.281730267394\n",
      "Trained Loss:  0.275700003588\n"
     ]
    },
    {
     "data": {
      "text/plain": [
       "Conjunctions -> [ 0.          1.15597069  0.          1.15597069  0.          1.15597069], \n",
       "Disjunction -> [ 16.53459183]"
      ]
     },
     "execution_count": 20,
     "metadata": {},
     "output_type": "execute_result"
    }
   ],
   "source": [
    "dataInteresting2 = np.array([[0.0, 0.0, 0.0], [0.0, 0.0, 1.0], [0.0, 1.0, 0.0], [0.0, 1.0, 1.0], [1.0, 0.0, 0.0], [1.0, 0.0, 1.0], [1.0, 1.0, 0.0], [1.0, 1.0, 1.0]])\n",
    "targetsInteresting2 = np.array([1.0, 1.0, 1.0, 1.0, 1.0, 1.0, 1.0, 0.0])\n",
    "trainDNFNetwork(dataInteresting2, targetsInteresting2, 3, 1)"
   ]
  },
  {
   "cell_type": "markdown",
   "metadata": {},
   "source": [
    "## a AND b AND c"
   ]
  },
  {
   "cell_type": "code",
   "execution_count": 21,
   "metadata": {
    "collapsed": false
   },
   "outputs": [
    {
     "name": "stdout",
     "output_type": "stream",
     "text": [
      "Conjunctions -> [ 0.4752801   0.61059528  0.73604971  0.67945475  0.41662598  0.92047737], \n",
      "Disjunction -> [ 0.82660456]\n",
      "\n",
      "Initial Loss:  2.25620610309\n",
      "Iteration -> 1000 : 0.0219678394667\n",
      "Iteration -> 2000 : 0.00970663636651\n",
      "Iteration -> 3000 : 0.00609463608121\n",
      "Iteration -> 4000 : 0.00440312454895\n",
      "Iteration -> 5000 : 0.00343082681538\n",
      "Iteration -> 6000 : 0.00280249699807\n",
      "Iteration -> 7000 : 0.00236435042995\n",
      "Iteration -> 8000 : 0.00204203862079\n",
      "Iteration -> 9000 : 0.00179534386694\n",
      "Trained Loss:  0.00160065835351\n"
     ]
    },
    {
     "data": {
      "text/plain": [
       "Conjunctions -> [ 5.29319961  0.          5.29329071  0.          5.29322458  0.        ], \n",
       "Disjunction -> [ 3.7465021]"
      ]
     },
     "execution_count": 21,
     "metadata": {},
     "output_type": "execute_result"
    }
   ],
   "source": [
    "dataInteresting3 = np.array([[0.0, 0.0, 0.0], [0.0, 0.0, 1.0], [0.0, 1.0, 0.0], [0.0, 1.0, 1.0], [1.0, 0.0, 0.0], [1.0, 0.0, 1.0], [1.0, 1.0, 0.0], [1.0, 1.0, 1.0]])\n",
    "targetsInteresting3 = np.array([0.0, 0.0, 0.0, 0.0, 0.0, 0.0, 0.0, 1.0])\n",
    "trainDNFNetwork(dataInteresting3, targetsInteresting3, 3, 1)"
   ]
  },
  {
   "cell_type": "markdown",
   "metadata": {
    "collapsed": true
   },
   "source": [
    "# (a XOR b) AND c\n",
    "CNF: ((NOT a) OR (NOT b)) AND (a OR b) AND c"
   ]
  },
  {
   "cell_type": "code",
   "execution_count": 22,
   "metadata": {
    "collapsed": false
   },
   "outputs": [
    {
     "name": "stdout",
     "output_type": "stream",
     "text": [
      "Conjunctions -> [ 0.29739807  0.00171116  0.80872767  0.98389067  0.70136888  0.63615846], [ 0.83480938  0.9396207   0.8704515   0.43406091  0.52096317  0.12775017], \n",
      "Disjunction -> [ 0.89989084  0.20539313]\n",
      "\n",
      "Initial Loss:  2.23382902917\n",
      "Iteration -> 1000 : 0.00704233471095\n",
      "Iteration -> 2000 : 0.00324880568732\n",
      "Iteration -> 3000 : 0.00208699831827\n",
      "Iteration -> 4000 : 0.00152982710424\n",
      "Iteration -> 5000 : 0.00120431817661\n",
      "Iteration -> 6000 : 0.000991426354204\n",
      "Iteration -> 7000 : 0.000841580403191\n",
      "Iteration -> 8000 : 0.000730515340014\n",
      "Iteration -> 9000 : 0.000644972894769\n",
      "Trained Loss:  0.000577105155933\n"
     ]
    },
    {
     "data": {
      "text/plain": [
       "Conjunctions -> [ 6.69795023  0.          0.          6.69845327  6.35571326  0.        ], [ 0.          6.69694943  6.69741559  0.          6.35529502  0.        ], \n",
       "Disjunction -> [ 4.62845045  4.62810307]"
      ]
     },
     "execution_count": 22,
     "metadata": {},
     "output_type": "execute_result"
    }
   ],
   "source": [
    "dataInteresting4 = np.array([[0.0, 0.0, 0.0], [0.0, 0.0, 1.0], [0.0, 1.0, 0.0], [0.0, 1.0, 1.0], [1.0, 0.0, 0.0], [1.0, 0.0, 1.0], [1.0, 1.0, 0.0], [1.0, 1.0, 1.0]])\n",
    "targetsInteresting4 = np.array([0.0, 0.0, 0.0, 1.0, 0.0, 1.0, 0.0, 0.0])\n",
    "trainDNFNetwork(dataInteresting4, targetsInteresting4, 3, 2, 10000, 0.5)"
   ]
  },
  {
   "cell_type": "markdown",
   "metadata": {
    "collapsed": true
   },
   "source": [
    "# (a XOR b) OR c\n",
    "DNF: (a AND (NOT b)) OR ((NOT a) AND b) OR c"
   ]
  },
  {
   "cell_type": "code",
   "execution_count": 23,
   "metadata": {
    "collapsed": false
   },
   "outputs": [
    {
     "name": "stdout",
     "output_type": "stream",
     "text": [
      "Conjunctions -> [ 0.68860081  0.70957728  0.75320185  0.45308893  0.10868544  0.66358426], [ 0.75225144  0.45597351  0.38769003  0.05668319  0.6017873   0.385083  ], [ 0.48765209  0.62444084  0.74741854  0.02076235  0.95761706  0.89693144], \n",
      "Disjunction -> [ 0.74263656  0.8845297   0.03681781]\n",
      "\n",
      "Initial Loss:  1.67382836333\n",
      "Iteration -> 1000 : 0.360424732395\n",
      "Iteration -> 2000 : 0.254228126441\n",
      "Iteration -> 3000 : 0.213452674104\n",
      "Iteration -> 4000 : 0.189924301583\n",
      "Iteration -> 5000 : 0.173966574432\n",
      "Iteration -> 6000 : 0.162150818196\n",
      "Iteration -> 7000 : 0.152904749206\n",
      "Iteration -> 8000 : 0.145389091784\n",
      "Iteration -> 9000 : 0.139108313629\n",
      "Trained Loss:  0.133746524113\n"
     ]
    },
    {
     "data": {
      "text/plain": [
       "Conjunctions -> [ 0.          6.85516584  6.85502313  0.          0.          0.        ], [ 2.11149332  0.          0.          2.11149266  2.3611198   0.        ], [ 0.3891798   0.72383336  0.75946156  0.00963957  1.01894747  0.83652127], \n",
       "Disjunction -> [  3.96095708  17.56061324   0.        ]"
      ]
     },
     "execution_count": 23,
     "metadata": {},
     "output_type": "execute_result"
    }
   ],
   "source": [
    "dataInteresting5 = np.array([[0.0, 0.0, 0.0], [0.0, 0.0, 1.0], [0.0, 1.0, 0.0], [0.0, 1.0, 1.0], [1.0, 0.0, 0.0], [1.0, 0.0, 1.0], [1.0, 1.0, 0.0], [1.0, 1.0, 1.0]])\n",
    "targetsInteresting5 = np.array([0.0, 1.0, 1.0, 1.0, 1.0, 1.0, 0.0, 1.0])\n",
    "trainDNFNetwork(dataInteresting5, targetsInteresting5, 3, 3)"
   ]
  },
  {
   "cell_type": "markdown",
   "metadata": {},
   "source": [
    "# (a XOR b) In 3Space\n",
    "DNF: (a AND (NOT b)) OR ((NOT a) AND b)"
   ]
  },
  {
   "cell_type": "code",
   "execution_count": 24,
   "metadata": {
    "collapsed": false
   },
   "outputs": [
    {
     "name": "stdout",
     "output_type": "stream",
     "text": [
      "Conjunctions -> [ 0.62165063  0.80569411  0.11778182  0.01865325  0.19892772  0.39363558], [ 0.72936251  0.15238085  0.44948014  0.7802324   0.68677952  0.33853165], \n",
      "Disjunction -> [ 0.77183791  0.61513605]\n",
      "\n",
      "Initial Loss:  2.06746367866\n",
      "Iteration -> 1000 : 0.0294632669614\n",
      "Iteration -> 2000 : 0.0129589611416\n",
      "Iteration -> 3000 : 0.00817835491121\n",
      "Iteration -> 4000 : 0.00593767814757\n",
      "Iteration -> 5000 : 0.00464568128227\n",
      "Iteration -> 6000 : 0.00380796915521\n",
      "Iteration -> 7000 : 0.00322199947623\n",
      "Iteration -> 8000 : 0.00278973325792\n",
      "Iteration -> 9000 : 0.00245804505223\n",
      "Trained Loss:  0.00219569058586\n"
     ]
    },
    {
     "data": {
      "text/plain": [
       "Conjunctions -> [ 0.          6.12324249  6.12232565  0.          0.          0.        ], [ 6.12947793  0.          0.          6.1285871   0.          0.        ], \n",
       "Disjunction -> [ 4.22327547  4.22517956]"
      ]
     },
     "execution_count": 24,
     "metadata": {},
     "output_type": "execute_result"
    }
   ],
   "source": [
    "dataInteresting4 = np.array([[0.0, 0.0, 0.0], [0.0, 0.0, 1.0], [0.0, 1.0, 0.0], [0.0, 1.0, 1.0], [1.0, 0.0, 0.0], [1.0, 0.0, 1.0], [1.0, 1.0, 0.0], [1.0, 1.0, 1.0]])\n",
    "targetsInteresting4 = np.array([0.0, 0.0, 1.0, 1.0, 1.0, 1.0, 0.0, 0.0])\n",
    "trainDNFNetwork(dataInteresting4, targetsInteresting4, 3, 2)"
   ]
  },
  {
   "cell_type": "markdown",
   "metadata": {},
   "source": [
    "# (a OR b) in 3Space"
   ]
  },
  {
   "cell_type": "code",
   "execution_count": 25,
   "metadata": {
    "collapsed": false
   },
   "outputs": [
    {
     "name": "stdout",
     "output_type": "stream",
     "text": [
      "Conjunctions -> [ 0.37279682  0.76341437  0.99682985  0.23573099  0.32492959  0.83711015], \n",
      "Disjunction -> [ 0.18525496]\n",
      "\n",
      "Initial Loss:  3.86934697577\n",
      "Iteration -> 1000 : 1.3749287896\n",
      "Iteration -> 2000 : 1.35121796238\n",
      "Iteration -> 3000 : 1.34456459221\n",
      "Iteration -> 4000 : 1.34147669192\n",
      "Iteration -> 5000 : 1.33970364512\n",
      "Iteration -> 6000 : 1.33855634656\n",
      "Iteration -> 7000 : 1.33775462106\n",
      "Iteration -> 8000 : 1.33716346009\n",
      "Iteration -> 9000 : 1.3367099139\n",
      "Trained Loss:  1.3363511605\n"
     ]
    },
    {
     "data": {
      "text/plain": [
       "Conjunctions -> [ 0.          7.89768712  7.89774781  0.          0.          0.        ], \n",
       "Disjunction -> [ 3.63998885]"
      ]
     },
     "execution_count": 25,
     "metadata": {},
     "output_type": "execute_result"
    }
   ],
   "source": [
    "dataOR3Space = np.array([[0.0, 0.0, 0.0], [0.0, 0.0, 1.0], [0.0, 1.0, 0.0], [0.0, 1.0, 1.0], [1.0, 0.0, 0.0], [1.0, 0.0, 1.0], [1.0, 1.0, 0.0], [1.0, 1.0, 1.0]])\n",
    "targetsOR3Space = np.array([0.0, 0.0, 1.0, 1.0, 1.0, 1.0, 1.0, 1.0])\n",
    "trainDNFNetwork(dataInteresting4, targetsInteresting4, 3, 1)"
   ]
  },
  {
   "cell_type": "code",
   "execution_count": null,
   "metadata": {
    "collapsed": true
   },
   "outputs": [],
   "source": []
  }
 ],
 "metadata": {
  "kernelspec": {
   "display_name": "Python 3",
   "language": "python",
   "name": "python3"
  },
  "language_info": {
   "codemirror_mode": {
    "name": "ipython",
    "version": 3
   },
   "file_extension": ".py",
   "mimetype": "text/x-python",
   "name": "python",
   "nbconvert_exporter": "python",
   "pygments_lexer": "ipython3",
   "version": "3.6.0"
  }
 },
 "nbformat": 4,
 "nbformat_minor": 2
}

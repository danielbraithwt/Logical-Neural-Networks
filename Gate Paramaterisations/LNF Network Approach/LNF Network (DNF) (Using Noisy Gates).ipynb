{
 "cells": [
  {
   "cell_type": "code",
   "execution_count": 29,
   "metadata": {
    "collapsed": true
   },
   "outputs": [],
   "source": [
    "import autograd.numpy as np\n",
    "from autograd import grad"
   ]
  },
  {
   "cell_type": "code",
   "execution_count": 30,
   "metadata": {
    "collapsed": true
   },
   "outputs": [],
   "source": [
    "class ORNeuron():\n",
    "    def __init__(self, n):\n",
    "        self.n = n\n",
    "        self.weights = np.zeros(n)\n",
    "        \n",
    "    def getWeights(self):\n",
    "        return self.weights    \n",
    "    \n",
    "    def present(self, inputs):\n",
    "        z = np.sum(np.multiply(inputs, self.weights))\n",
    "        return 1 - np.power(np.e, -z)\n",
    "    \n",
    "    def updateWeights(self, g):\n",
    "        self.weights -= g\n",
    "        \n",
    "        for i in range(0, len(self.weights)):\n",
    "            if self.weights[i] < 0:\n",
    "                self.weights[i] = 0\n",
    "        \n",
    "    def setGrad(self, g):\n",
    "        self.grad = g\n",
    "        \n",
    "    def applyGrad(self):\n",
    "        self.updateWeights(self.grad)\n",
    "        self.grad = None\n",
    "        \n",
    "    def __repr__(self):\n",
    "        return str(self.weights[1:len(self.weights)])"
   ]
  },
  {
   "cell_type": "code",
   "execution_count": 31,
   "metadata": {
    "collapsed": true
   },
   "outputs": [],
   "source": [
    "class ANDNeuron():\n",
    "    def __init__(self, n):\n",
    "        self.weights = np.zeros(n)\n",
    "#         self.weights = [1, 0, 1, 0, 1]\n",
    "        \n",
    "    def getWeights(self):\n",
    "        return self.weights\n",
    "        \n",
    "    def present(self, inputs):\n",
    "        i = 1.0 - inputs\n",
    "        i[0] = 1.0\n",
    "        \n",
    "        z = np.sum(np.multiply(i, self.weights))\n",
    "        return np.power(np.e, -z)\n",
    "    \n",
    "    def updateWeights(self, g):\n",
    "        self.weights -= g\n",
    "        \n",
    "        for i in range(0, len(self.weights)):\n",
    "            if self.weights[i] < 0:\n",
    "                self.weights[i] = 0\n",
    "        \n",
    "    def setGrad(self, g):\n",
    "        self.grad = g\n",
    "        \n",
    "    def applyGrad(self):\n",
    "        self.updateWeights(self.grad)\n",
    "        self.grad = None\n",
    "        \n",
    "    def __repr__(self):\n",
    "        return str(self.weights[1:len(self.weights)])"
   ]
  },
  {
   "cell_type": "code",
   "execution_count": 32,
   "metadata": {
    "collapsed": true
   },
   "outputs": [],
   "source": [
    "class DNFNetwork():\n",
    "    def __init__(self, n, c):\n",
    "        self.n = n\n",
    "        self.c = c\n",
    "        \n",
    "        d = []\n",
    "        for i in range(0, c):\n",
    "            d.append(ANDNeuron(n*2 + 1))\n",
    "        \n",
    "        self.conjunctions = np.array(d)\n",
    "        \n",
    "        if not c == 0:\n",
    "            self.disjunction = ORNeuron(c + 1)\n",
    "        else:\n",
    "            self.disjunction = ORNeuron(n*2 + 1)\n",
    "        \n",
    "    def getDisjunction(self):\n",
    "        return self.disjunction\n",
    "    \n",
    "    def getConjunctions(self):\n",
    "        return self.conjunctions\n",
    "    \n",
    "    def fowardprop(self, inputs):\n",
    "        actualIn = self.__convertInputs__(inputs)\n",
    "        \n",
    "        if not self.c == 0:\n",
    "            dout = [1]\n",
    "            for d in self.conjunctions:\n",
    "                dout.append(d.present(actualIn))\n",
    "            \n",
    "            actualIn = dout\n",
    "            \n",
    "        return self.disjunction.present(np.array(actualIn))\n",
    "    \n",
    "    def __convertInputs__(self, inputs):\n",
    "        actual = [1]\n",
    "        \n",
    "        for i in inputs:\n",
    "            actual.append(i)\n",
    "            actual.append(1-i)\n",
    "        \n",
    "        return np.array(actual)\n",
    "    \n",
    "    def __repr__(self):\n",
    "        s = \"Conjunctions -> \"\n",
    "        for d in self.conjunctions:\n",
    "            s += (str(d) + \", \")\n",
    "            \n",
    "        s += (\"\\nDisjunction -> \" + str(self.disjunction) + \"\\n\")\n",
    "            \n",
    "        return s"
   ]
  },
  {
   "cell_type": "code",
   "execution_count": 33,
   "metadata": {
    "collapsed": true
   },
   "outputs": [],
   "source": [
    "def SSE(network, data, targets, p=False):\n",
    "    predictions = predict(network, data)\n",
    "    \n",
    "#     if p:\n",
    "#         print(predictions)\n",
    "    \n",
    "    return np.sum(np.power(np.subtract(targets, predictions), 2.0))\n",
    "    \n",
    "def predict(network, data):\n",
    "    t = np.array([network.fowardprop(d) for d in data])\n",
    "    return t\n",
    "    "
   ]
  },
  {
   "cell_type": "code",
   "execution_count": 34,
   "metadata": {
    "collapsed": true
   },
   "outputs": [],
   "source": [
    "def trainDNFNetwork(data, targets, inputNodes, numC, it=10000, lr=0.1):\n",
    "    network = DNFNetwork(inputNodes, numC)\n",
    "    print(network)\n",
    "    print(\"Initial Loss: \", SSE(network, data, targets, True))\n",
    "    \n",
    "    pterb = 0.0001\n",
    "    \n",
    "    for i in range(1, it):\n",
    "        if i%1000 == 0:\n",
    "            print(\"Iteration -> \" + str(i) + \" : \" + str(SSE(network, data, targets)))\n",
    "            \n",
    "        for d in network.getConjunctions():\n",
    "            g = computeNeuronGrad(network, d, pterb, data, targets)\n",
    "            d.setGrad(g * lr)\n",
    "            \n",
    "        g = computeNeuronGrad(network, network.getDisjunction(), pterb, data, targets)\n",
    "        \n",
    "        network.getDisjunction().updateWeights(g * lr)\n",
    "        for d in network.getConjunctions():\n",
    "            d.applyGrad()\n",
    "            \n",
    "    print(\"Trained Loss: \", SSE(network, data, targets, True))\n",
    "    return network\n",
    "\n",
    "def computeNeuronGrad(network, neuron, pterb, data, targets):\n",
    "    gradient = np.zeros(len(neuron.getWeights()))\n",
    "    for k in range(0, len(neuron.getWeights())):\n",
    "        g = np.zeros(len(neuron.getWeights()))\n",
    "        g[k] = -pterb\n",
    "\n",
    "        oldSSE = SSE(network, data, targets)\n",
    "        neuron.updateWeights(g)\n",
    "        newSSE = SSE(network, data, targets)\n",
    "        neuron.updateWeights(-g)\n",
    "                \n",
    "        gradient[k] = (newSSE - oldSSE)/pterb\n",
    "        \n",
    "    return gradient"
   ]
  },
  {
   "cell_type": "markdown",
   "metadata": {},
   "source": [
    "# NOT"
   ]
  },
  {
   "cell_type": "code",
   "execution_count": 35,
   "metadata": {
    "collapsed": false
   },
   "outputs": [
    {
     "name": "stdout",
     "output_type": "stream",
     "text": [
      "Conjunctions -> \n",
      "Disjunction -> [ 0.  0.]\n",
      "\n",
      "Initial Loss:  1.0\n",
      "Iteration -> 1000 : 0.00256401191544\n",
      "Iteration -> 2000 : 0.00126785197053\n",
      "Iteration -> 3000 : 0.00084175558195\n",
      "Iteration -> 4000 : 0.00062993425912\n",
      "Iteration -> 5000 : 0.000503256413748\n",
      "Iteration -> 6000 : 0.000418984388068\n",
      "Iteration -> 7000 : 0.000358880936175\n",
      "Iteration -> 8000 : 0.000313854296033\n",
      "Iteration -> 9000 : 0.000278864414562\n",
      "Trained Loss:  0.000250892296604\n"
     ]
    },
    {
     "data": {
      "text/plain": [
       "Conjunctions -> \n",
       "Disjunction -> [ 0.         4.1451229]"
      ]
     },
     "execution_count": 35,
     "metadata": {},
     "output_type": "execute_result"
    }
   ],
   "source": [
    "dataNOT = np.array([[1.0], [0.0]])\n",
    "targetsNOT = np.array([0.0, 1.0])\n",
    "trainDNFNetwork(dataNOT, targetsNOT, 1, 0)"
   ]
  },
  {
   "cell_type": "markdown",
   "metadata": {},
   "source": [
    "# AND\n",
    "For this we dont neeed any disjunctions"
   ]
  },
  {
   "cell_type": "code",
   "execution_count": null,
   "metadata": {
    "collapsed": true
   },
   "outputs": [],
   "source": []
  },
  {
   "cell_type": "code",
   "execution_count": 36,
   "metadata": {
    "collapsed": false,
    "scrolled": true
   },
   "outputs": [
    {
     "name": "stdout",
     "output_type": "stream",
     "text": [
      "Conjunctions -> [ 0.  0.  0.  0.], \n",
      "Disjunction -> [ 0.]\n",
      "\n",
      "Initial Loss:  1.0\n",
      "Iteration -> 1000 : 0.0150297778406\n",
      "Iteration -> 2000 : 0.00672034538128\n",
      "Iteration -> 3000 : 0.00424944234522\n",
      "Iteration -> 4000 : 0.00308440448997\n",
      "Iteration -> 5000 : 0.00241143593159\n",
      "Iteration -> 6000 : 0.00197491656694\n",
      "Iteration -> 7000 : 0.00166962036877\n",
      "Iteration -> 8000 : 0.00144449093601\n",
      "Iteration -> 9000 : 0.00127182713277\n",
      "Trained Loss:  0.00113532699449\n"
     ]
    },
    {
     "data": {
      "text/plain": [
       "Conjunctions -> [ 5.32906187  0.          5.32906187  0.        ], \n",
       "Disjunction -> [ 3.8528426]"
      ]
     },
     "execution_count": 36,
     "metadata": {},
     "output_type": "execute_result"
    }
   ],
   "source": [
    "dataAND = np.array([[0.0, 0.0], [0.0, 1.0], [1.0, 0.0], [1.0, 1.0]])\n",
    "targetsAND = np.array([0.0, 0.0, 0.0, 1.0])\n",
    "trainDNFNetwork(dataAND, targetsAND, 2, 1)"
   ]
  },
  {
   "cell_type": "markdown",
   "metadata": {
    "collapsed": true
   },
   "source": [
    "# OR"
   ]
  },
  {
   "cell_type": "code",
   "execution_count": 37,
   "metadata": {
    "collapsed": false
   },
   "outputs": [
    {
     "name": "stdout",
     "output_type": "stream",
     "text": [
      "Conjunctions -> \n",
      "Disjunction -> [ 0.  0.  0.  0.]\n",
      "\n",
      "Initial Loss:  3.0\n",
      "Iteration -> 1000 : 0.00521300404887\n",
      "Iteration -> 2000 : 0.00255871843019\n",
      "Iteration -> 3000 : 0.00169422754186\n",
      "Iteration -> 4000 : 0.00126609639561\n",
      "Iteration -> 5000 : 0.00101059935924\n",
      "Iteration -> 6000 : 0.000840864237408\n",
      "Iteration -> 7000 : 0.000719925065581\n",
      "Iteration -> 8000 : 0.000629388630652\n",
      "Iteration -> 9000 : 0.000559072863644\n",
      "Trained Loss:  0.000502885248704\n"
     ]
    },
    {
     "data": {
      "text/plain": [
       "Conjunctions -> \n",
       "Disjunction -> [ 4.1439617  0.         4.1439617  0.       ]"
      ]
     },
     "execution_count": 37,
     "metadata": {},
     "output_type": "execute_result"
    }
   ],
   "source": [
    "dataOR = np.array([[0.0, 0.0], [0.0, 1.0], [1.0, 0.0], [1.0, 1.0]])\n",
    "targetsOR = np.array([0.0, 1.0, 1.0, 1.0])\n",
    "trainDNFNetwork(dataOR, targetsOR, 2, 0)"
   ]
  },
  {
   "cell_type": "markdown",
   "metadata": {},
   "source": [
    "# NAND"
   ]
  },
  {
   "cell_type": "code",
   "execution_count": 38,
   "metadata": {
    "collapsed": false
   },
   "outputs": [
    {
     "name": "stdout",
     "output_type": "stream",
     "text": [
      "Conjunctions -> [ 0.  0.  0.  0.], [ 0.  0.  0.  0.], \n",
      "Disjunction -> [ 0.  0.]\n",
      "\n",
      "Initial Loss:  3.0\n",
      "Iteration -> 1000 : 0.164350645679\n",
      "Iteration -> 2000 : 0.128286733334\n",
      "Iteration -> 3000 : 0.111067878116\n",
      "Iteration -> 4000 : 0.100276907207\n",
      "Iteration -> 5000 : 0.0870380065907\n",
      "Iteration -> 6000 : 0.0163834866093\n",
      "Iteration -> 7000 : 0.00638441480339\n",
      "Iteration -> 8000 : 0.00377999841242\n",
      "Iteration -> 9000 : 0.0026421867324\n",
      "Trained Loss:  0.00201543311055\n"
     ]
    },
    {
     "data": {
      "text/plain": [
       "Conjunctions -> [ 0.          5.32892233  0.          0.59882425], [ 0.          0.59882425  0.          5.32892233], \n",
       "Disjunction -> [ 7.58087306  7.58087306]"
      ]
     },
     "execution_count": 38,
     "metadata": {},
     "output_type": "execute_result"
    }
   ],
   "source": [
    "dataNAND = np.array([[0.0, 0.0], [0.0, 1.0], [1.0, 0.0], [1.0, 1.0]])\n",
    "targetsNAND = np.array([1.0, 1.0, 1.0, 0.0])\n",
    "trainDNFNetwork(dataNAND, targetsNAND, 2, 2)"
   ]
  },
  {
   "cell_type": "markdown",
   "metadata": {},
   "source": [
    "# NOR"
   ]
  },
  {
   "cell_type": "code",
   "execution_count": 39,
   "metadata": {
    "collapsed": false
   },
   "outputs": [
    {
     "name": "stdout",
     "output_type": "stream",
     "text": [
      "Conjunctions -> [ 0.  0.  0.  0.], \n",
      "Disjunction -> [ 0.]\n",
      "\n",
      "Initial Loss:  1.0\n",
      "Iteration -> 1000 : 0.0150297778406\n",
      "Iteration -> 2000 : 0.00672034538128\n",
      "Iteration -> 3000 : 0.00424944234522\n",
      "Iteration -> 4000 : 0.00308440448997\n",
      "Iteration -> 5000 : 0.00241143593159\n",
      "Iteration -> 6000 : 0.00197491656694\n",
      "Iteration -> 7000 : 0.00166962036877\n",
      "Iteration -> 8000 : 0.00144449093602\n",
      "Iteration -> 9000 : 0.00127182713277\n",
      "Trained Loss:  0.00113532699449\n"
     ]
    },
    {
     "data": {
      "text/plain": [
       "Conjunctions -> [ 0.          5.32906187  0.          5.32906187], \n",
       "Disjunction -> [ 3.8528426]"
      ]
     },
     "execution_count": 39,
     "metadata": {},
     "output_type": "execute_result"
    }
   ],
   "source": [
    "dataNAND = np.array([[0.0, 0.0], [0.0, 1.0], [1.0, 0.0], [1.0, 1.0]])\n",
    "targetsNAND = np.array([1.0, 0.0, 0.0, 0.0])\n",
    "trainDNFNetwork(dataNAND, targetsNAND, 2, 1)"
   ]
  },
  {
   "cell_type": "markdown",
   "metadata": {},
   "source": [
    "# XOR"
   ]
  },
  {
   "cell_type": "code",
   "execution_count": 40,
   "metadata": {
    "collapsed": false
   },
   "outputs": [
    {
     "name": "stdout",
     "output_type": "stream",
     "text": [
      "Conjunctions -> [ 0.  0.  0.  0.], [ 0.  0.  0.  0.], \n",
      "Disjunction -> [ 0.  0.]\n",
      "\n",
      "Initial Loss:  2.0\n",
      "Iteration -> 1000 : 0.999999889639\n",
      "Iteration -> 2000 : 0.0625126009626\n",
      "Iteration -> 3000 : 0.0183741996254\n",
      "Iteration -> 4000 : 0.0103801964463\n",
      "Iteration -> 5000 : 0.00715037599201\n",
      "Iteration -> 6000 : 0.00542385175814\n",
      "Iteration -> 7000 : 0.00435535281373\n",
      "Iteration -> 8000 : 0.00363133748981\n",
      "Iteration -> 9000 : 0.00310947961787\n",
      "Trained Loss:  0.00271608129924\n"
     ]
    },
    {
     "data": {
      "text/plain": [
       "Conjunctions -> [ 0.          5.55704148  5.55704148  0.        ], [ 5.55704148  0.          0.          5.55704148], \n",
       "Disjunction -> [ 3.76405288  3.76405288]"
      ]
     },
     "execution_count": 40,
     "metadata": {},
     "output_type": "execute_result"
    }
   ],
   "source": [
    "dataNAND = np.array([[0.0, 0.0], [0.0, 1.0], [1.0, 0.0], [1.0, 1.0]])\n",
    "targetsNAND = np.array([0.0, 1.0, 1.0, 0.0])\n",
    "trainDNFNetwork(dataNAND, targetsNAND, 2, 2)"
   ]
  },
  {
   "cell_type": "markdown",
   "metadata": {
    "collapsed": true
   },
   "source": [
    "# IMPLIES"
   ]
  },
  {
   "cell_type": "code",
   "execution_count": 41,
   "metadata": {
    "collapsed": false
   },
   "outputs": [
    {
     "name": "stdout",
     "output_type": "stream",
     "text": [
      "Conjunctions -> [ 0.  0.  0.  0.], [ 0.  0.  0.  0.], \n",
      "Disjunction -> [ 0.  0.]\n",
      "\n",
      "Initial Loss:  3.0\n",
      "Iteration -> 1000 : 0.164350645679\n",
      "Iteration -> 2000 : 0.128286733334\n",
      "Iteration -> 3000 : 0.111067878204\n",
      "Iteration -> 4000 : 0.100277818613\n",
      "Iteration -> 5000 : 0.0913130843561\n",
      "Iteration -> 6000 : 0.0216573128666\n",
      "Iteration -> 7000 : 0.00727503328172\n",
      "Iteration -> 8000 : 0.00410341627637\n",
      "Iteration -> 9000 : 0.00280380071697\n",
      "Trained Loss:  0.00211104083687\n"
     ]
    },
    {
     "data": {
      "text/plain": [
       "Conjunctions -> [ 0.          0.61841629  5.29945371  0.        ], [ 0.          5.29945371  0.61841629  0.        ], \n",
       "Disjunction -> [ 7.6795138  7.6795138]"
      ]
     },
     "execution_count": 41,
     "metadata": {},
     "output_type": "execute_result"
    }
   ],
   "source": [
    "dataIMPLYS = np.array([[0.0, 0.0], [0.0, 1.0], [1.0, 0.0], [1.0, 1.0]])\n",
    "targetsIMPLYS = np.array([1.0, 1.0, 0.0, 1.0])\n",
    "trainDNFNetwork(dataIMPLYS, targetsIMPLYS, 2, 2)"
   ]
  },
  {
   "cell_type": "markdown",
   "metadata": {},
   "source": [
    "# 3OR"
   ]
  },
  {
   "cell_type": "code",
   "execution_count": 48,
   "metadata": {
    "collapsed": false
   },
   "outputs": [
    {
     "name": "stdout",
     "output_type": "stream",
     "text": [
      "Conjunctions -> [ 0.  0.  0.  0.  0.  0.], [ 0.  0.  0.  0.  0.  0.], [ 0.  0.  0.  0.  0.  0.], \n",
      "Disjunction -> [ 0.  0.  0.]\n",
      "\n",
      "Initial Loss:  7.0\n",
      "Iteration -> 1000 : 0.347514605059\n",
      "Iteration -> 2000 : 0.303266828533\n",
      "Iteration -> 3000 : 0.280104610647\n",
      "Iteration -> 4000 : 0.264657474325\n",
      "Iteration -> 5000 : 0.253193610462\n",
      "Iteration -> 6000 : 0.244106207691\n",
      "Iteration -> 7000 : 0.189533870038\n",
      "Iteration -> 8000 : 0.0253144617015\n",
      "Iteration -> 9000 : 0.009785465909\n",
      "Trained Loss:  0.00576828501625\n"
     ]
    },
    {
     "data": {
      "text/plain": [
       "Conjunctions -> [ 5.05667924  0.          0.74821285  0.          0.          0.        ], [ 0.71809035  0.          0.          0.          5.1584332   0.        ], [ 0.53619824  0.          5.10502443  0.          0.17811326  0.        ], \n",
       "Disjunction -> [ 7.88057271  7.82531797  7.80402064]"
      ]
     },
     "execution_count": 48,
     "metadata": {},
     "output_type": "execute_result"
    }
   ],
   "source": [
    "data3OR = np.array([[0.0, 0.0, 0.0], [0.0, 0.0, 1.0], [0.0, 1.0, 0.0], [0.0, 1.0, 1.0], [1.0, 0.0, 0.0], [1.0, 0.0, 1.0], [1.0, 1.0, 0.0], [1.0, 1.0, 1.0]])\n",
    "targets3OR = np.array([0.0, 1.0, 1.0, 1.0, 1.0, 1.0, 1.0, 1.0])\n",
    "trainDNFNetwork(data3OR, targets3OR, 3, 3)"
   ]
  },
  {
   "cell_type": "markdown",
   "metadata": {},
   "source": [
    "# 3AND"
   ]
  },
  {
   "cell_type": "code",
   "execution_count": 49,
   "metadata": {
    "collapsed": false
   },
   "outputs": [
    {
     "name": "stdout",
     "output_type": "stream",
     "text": [
      "Conjunctions -> [ 0.  0.  0.  0.  0.  0.], \n",
      "Disjunction -> [ 0.]\n",
      "\n",
      "Initial Loss:  1.0\n",
      "Iteration -> 1000 : 0.0222633324774\n",
      "Iteration -> 2000 : 0.00976943121523\n",
      "Iteration -> 3000 : 0.00612037538354\n",
      "Iteration -> 4000 : 0.00441688595444\n",
      "Iteration -> 5000 : 0.00343932422994\n",
      "Iteration -> 6000 : 0.00280824022053\n",
      "Iteration -> 7000 : 0.00236848025542\n",
      "Iteration -> 8000 : 0.00204514531646\n",
      "Iteration -> 9000 : 0.00179776246315\n",
      "Trained Loss:  0.00160259270776\n"
     ]
    },
    {
     "data": {
      "text/plain": [
       "Conjunctions -> [ 5.29247297  0.          5.29247297  0.          5.29247297  0.        ], \n",
       "Disjunction -> [ 3.74587818]"
      ]
     },
     "execution_count": 49,
     "metadata": {},
     "output_type": "execute_result"
    }
   ],
   "source": [
    "data3AND = np.array([[0.0, 0.0, 0.0], [0.0, 0.0, 1.0], [0.0, 1.0, 0.0], [0.0, 1.0, 1.0], [1.0, 0.0, 0.0], [1.0, 0.0, 1.0], [1.0, 1.0, 0.0], [1.0, 1.0, 1.0]])\n",
    "targets3AND = np.array([0.0, 0.0, 0.0, 0.0, 0.0, 0.0, 0.0, 1.0])\n",
    "trainDNFNetwork(data3AND, targets3AND, 3, 1)"
   ]
  },
  {
   "cell_type": "code",
   "execution_count": null,
   "metadata": {
    "collapsed": true
   },
   "outputs": [],
   "source": []
  },
  {
   "cell_type": "markdown",
   "metadata": {
    "collapsed": true
   },
   "source": [
    "# Complicated Formula"
   ]
  },
  {
   "cell_type": "markdown",
   "metadata": {},
   "source": [
    "## (a AND b) OR (NOT c)"
   ]
  },
  {
   "cell_type": "code",
   "execution_count": 42,
   "metadata": {
    "collapsed": false
   },
   "outputs": [
    {
     "name": "stdout",
     "output_type": "stream",
     "text": [
      "Conjunctions -> [ 0.  0.  0.  0.  0.  0.], [ 0.  0.  0.  0.  0.  0.], \n",
      "Disjunction -> [ 0.  0.]\n",
      "\n",
      "Initial Loss:  5.0\n",
      "Iteration -> 1000 : 0.42630707402\n",
      "Iteration -> 2000 : 0.119632613716\n",
      "Iteration -> 3000 : 0.014087505093\n",
      "Iteration -> 4000 : 0.00693242629622\n",
      "Iteration -> 5000 : 0.00450968869673\n",
      "Iteration -> 6000 : 0.00331416388312\n",
      "Iteration -> 7000 : 0.00260792624113\n",
      "Iteration -> 8000 : 0.00214385539838\n",
      "Iteration -> 9000 : 0.0018166123475\n",
      "Trained Loss:  0.00157395738292\n"
     ]
    },
    {
     "data": {
      "text/plain": [
       "Conjunctions -> [ 5.46299493  0.          5.46299493  0.          0.          0.36430708], [  4.77889756e-03   1.38788326e-01   4.77889756e-03   1.38788326e-01\n",
       "   0.00000000e+00   6.58409320e+00], \n",
       "Disjunction -> [ 6.04261969  5.80947776]"
      ]
     },
     "execution_count": 42,
     "metadata": {},
     "output_type": "execute_result"
    }
   ],
   "source": [
    "dataInteresting1 = np.array([[0.0, 0.0, 0.0], [0.0, 0.0, 1.0], [0.0, 1.0, 0.0], [0.0, 1.0, 1.0], [1.0, 0.0, 0.0], [1.0, 0.0, 1.0], [1.0, 1.0, 0.0], [1.0, 1.0, 1.0]])\n",
    "targetsInteresting1 = np.array([1.0, 0.0, 1.0, 0.0, 1.0, 0.0, 1.0, 1.0])\n",
    "trainDNFNetwork(dataInteresting1, targetsInteresting1, 3, 2)"
   ]
  },
  {
   "cell_type": "markdown",
   "metadata": {},
   "source": [
    "## NOT ( a AND b AND c)"
   ]
  },
  {
   "cell_type": "code",
   "execution_count": 43,
   "metadata": {
    "collapsed": false
   },
   "outputs": [
    {
     "name": "stdout",
     "output_type": "stream",
     "text": [
      "Conjunctions -> [ 0.  0.  0.  0.  0.  0.], \n",
      "Disjunction -> [ 0.]\n",
      "\n",
      "Initial Loss:  7.0\n",
      "Iteration -> 1000 : 0.41906699634\n",
      "Iteration -> 2000 : 0.366342146216\n",
      "Iteration -> 3000 : 0.339874574363\n",
      "Iteration -> 4000 : 0.322353722209\n",
      "Iteration -> 5000 : 0.309344710032\n",
      "Iteration -> 6000 : 0.299049645457\n",
      "Iteration -> 7000 : 0.290563058046\n",
      "Iteration -> 8000 : 0.283365510247\n",
      "Iteration -> 9000 : 0.277131735829\n",
      "Trained Loss:  0.27164476439\n"
     ]
    },
    {
     "data": {
      "text/plain": [
       "Conjunctions -> [ 0.          1.16992534  0.          1.16992534  0.          1.16992534], \n",
       "Disjunction -> [ 17.0855916]"
      ]
     },
     "execution_count": 43,
     "metadata": {},
     "output_type": "execute_result"
    }
   ],
   "source": [
    "dataInteresting2 = np.array([[0.0, 0.0, 0.0], [0.0, 0.0, 1.0], [0.0, 1.0, 0.0], [0.0, 1.0, 1.0], [1.0, 0.0, 0.0], [1.0, 0.0, 1.0], [1.0, 1.0, 0.0], [1.0, 1.0, 1.0]])\n",
    "targetsInteresting2 = np.array([1.0, 1.0, 1.0, 1.0, 1.0, 1.0, 1.0, 0.0])\n",
    "trainDNFNetwork(dataInteresting2, targetsInteresting2, 3, 1)"
   ]
  },
  {
   "cell_type": "markdown",
   "metadata": {},
   "source": [
    "## a AND b AND c"
   ]
  },
  {
   "cell_type": "code",
   "execution_count": 44,
   "metadata": {
    "collapsed": false
   },
   "outputs": [
    {
     "name": "stdout",
     "output_type": "stream",
     "text": [
      "Conjunctions -> [ 0.  0.  0.  0.  0.  0.], \n",
      "Disjunction -> [ 0.]\n",
      "\n",
      "Initial Loss:  1.0\n",
      "Iteration -> 1000 : 0.0222633324774\n",
      "Iteration -> 2000 : 0.00976943121523\n",
      "Iteration -> 3000 : 0.00612037538354\n",
      "Iteration -> 4000 : 0.00441688595444\n",
      "Iteration -> 5000 : 0.00343932422994\n",
      "Iteration -> 6000 : 0.00280824022053\n",
      "Iteration -> 7000 : 0.00236848025542\n",
      "Iteration -> 8000 : 0.00204514531646\n",
      "Iteration -> 9000 : 0.00179776246315\n",
      "Trained Loss:  0.00160259270776\n"
     ]
    },
    {
     "data": {
      "text/plain": [
       "Conjunctions -> [ 5.29247297  0.          5.29247297  0.          5.29247297  0.        ], \n",
       "Disjunction -> [ 3.74587818]"
      ]
     },
     "execution_count": 44,
     "metadata": {},
     "output_type": "execute_result"
    }
   ],
   "source": [
    "dataInteresting3 = np.array([[0.0, 0.0, 0.0], [0.0, 0.0, 1.0], [0.0, 1.0, 0.0], [0.0, 1.0, 1.0], [1.0, 0.0, 0.0], [1.0, 0.0, 1.0], [1.0, 1.0, 0.0], [1.0, 1.0, 1.0]])\n",
    "targetsInteresting3 = np.array([0.0, 0.0, 0.0, 0.0, 0.0, 0.0, 0.0, 1.0])\n",
    "trainDNFNetwork(dataInteresting3, targetsInteresting3, 3, 1)"
   ]
  },
  {
   "cell_type": "markdown",
   "metadata": {
    "collapsed": true
   },
   "source": [
    "# (a XOR b) AND c\n",
    "CNF: ((NOT a) OR (NOT b)) AND (a OR b) AND c"
   ]
  },
  {
   "cell_type": "code",
   "execution_count": 46,
   "metadata": {
    "collapsed": false
   },
   "outputs": [
    {
     "name": "stdout",
     "output_type": "stream",
     "text": [
      "Conjunctions -> [ 0.  0.  0.  0.  0.  0.], [ 0.  0.  0.  0.  0.  0.], \n",
      "Disjunction -> [ 0.  0.]\n",
      "\n",
      "Initial Loss:  2.0\n",
      "Iteration -> 1000 : 1.00106361686\n",
      "Iteration -> 2000 : 1.00051971505\n",
      "Iteration -> 3000 : 1.00034336398\n",
      "Iteration -> 4000 : 1.00025623508\n",
      "Iteration -> 5000 : 1.00020432145\n",
      "Iteration -> 6000 : 1.00016987399\n",
      "Iteration -> 7000 : 1.00014535215\n",
      "Iteration -> 8000 : 1.00012700858\n",
      "Iteration -> 9000 : 1.00011277085\n",
      "Trained Loss:  1.00010139992\n"
     ]
    },
    {
     "data": {
      "text/plain": [
       "Conjunctions -> [ 0.37405018  0.37405018  0.37405018  0.37405018  4.92222613  0.        ], [ 0.37405018  0.37405018  0.37405018  0.37405018  4.92222613  0.        ], \n",
       "Disjunction -> [ 1.54704704  1.54704704]"
      ]
     },
     "execution_count": 46,
     "metadata": {},
     "output_type": "execute_result"
    }
   ],
   "source": [
    "dataInteresting4 = np.array([[0.0, 0.0, 0.0], [0.0, 0.0, 1.0], [0.0, 1.0, 0.0], [0.0, 1.0, 1.0], [1.0, 0.0, 0.0], [1.0, 0.0, 1.0], [1.0, 1.0, 0.0], [1.0, 1.0, 1.0]])\n",
    "targetsInteresting4 = np.array([0.0, 0.0, 0.0, 1.0, 0.0, 1.0, 0.0, 0.0])\n",
    "trainDNFNetwork(dataInteresting4, targetsInteresting4, 3, 2, 10000, 0.5)"
   ]
  },
  {
   "cell_type": "markdown",
   "metadata": {
    "collapsed": true
   },
   "source": [
    "# (a XOR b) OR c\n",
    "DNF: (a AND (NOT b)) OR ((NOT a) AND b) OR c"
   ]
  },
  {
   "cell_type": "code",
   "execution_count": 47,
   "metadata": {
    "collapsed": false
   },
   "outputs": [
    {
     "name": "stdout",
     "output_type": "stream",
     "text": [
      "Conjunctions -> [ 0.  0.  0.  0.  0.  0.], [ 0.  0.  0.  0.  0.  0.], [ 0.  0.  0.  0.  0.  0.], \n",
      "Disjunction -> [ 0.  0.  0.]\n",
      "\n",
      "Initial Loss:  6.0\n",
      "Iteration -> 1000 : 1.00144549847\n",
      "Iteration -> 2000 : 1.00067848541\n"
     ]
    },
    {
     "ename": "KeyboardInterrupt",
     "evalue": "",
     "output_type": "error",
     "traceback": [
      "\u001b[0;31m---------------------------------------------------------------------------\u001b[0m",
      "\u001b[0;31mKeyboardInterrupt\u001b[0m                         Traceback (most recent call last)",
      "\u001b[0;32m<ipython-input-47-e027e0c22bb9>\u001b[0m in \u001b[0;36m<module>\u001b[0;34m()\u001b[0m\n\u001b[1;32m      1\u001b[0m \u001b[0mdataInteresting5\u001b[0m \u001b[1;33m=\u001b[0m \u001b[0mnp\u001b[0m\u001b[1;33m.\u001b[0m\u001b[0marray\u001b[0m\u001b[1;33m(\u001b[0m\u001b[1;33m[\u001b[0m\u001b[1;33m[\u001b[0m\u001b[1;36m0.0\u001b[0m\u001b[1;33m,\u001b[0m \u001b[1;36m0.0\u001b[0m\u001b[1;33m,\u001b[0m \u001b[1;36m0.0\u001b[0m\u001b[1;33m]\u001b[0m\u001b[1;33m,\u001b[0m \u001b[1;33m[\u001b[0m\u001b[1;36m0.0\u001b[0m\u001b[1;33m,\u001b[0m \u001b[1;36m0.0\u001b[0m\u001b[1;33m,\u001b[0m \u001b[1;36m1.0\u001b[0m\u001b[1;33m]\u001b[0m\u001b[1;33m,\u001b[0m \u001b[1;33m[\u001b[0m\u001b[1;36m0.0\u001b[0m\u001b[1;33m,\u001b[0m \u001b[1;36m1.0\u001b[0m\u001b[1;33m,\u001b[0m \u001b[1;36m0.0\u001b[0m\u001b[1;33m]\u001b[0m\u001b[1;33m,\u001b[0m \u001b[1;33m[\u001b[0m\u001b[1;36m0.0\u001b[0m\u001b[1;33m,\u001b[0m \u001b[1;36m1.0\u001b[0m\u001b[1;33m,\u001b[0m \u001b[1;36m1.0\u001b[0m\u001b[1;33m]\u001b[0m\u001b[1;33m,\u001b[0m \u001b[1;33m[\u001b[0m\u001b[1;36m1.0\u001b[0m\u001b[1;33m,\u001b[0m \u001b[1;36m0.0\u001b[0m\u001b[1;33m,\u001b[0m \u001b[1;36m0.0\u001b[0m\u001b[1;33m]\u001b[0m\u001b[1;33m,\u001b[0m \u001b[1;33m[\u001b[0m\u001b[1;36m1.0\u001b[0m\u001b[1;33m,\u001b[0m \u001b[1;36m0.0\u001b[0m\u001b[1;33m,\u001b[0m \u001b[1;36m1.0\u001b[0m\u001b[1;33m]\u001b[0m\u001b[1;33m,\u001b[0m \u001b[1;33m[\u001b[0m\u001b[1;36m1.0\u001b[0m\u001b[1;33m,\u001b[0m \u001b[1;36m1.0\u001b[0m\u001b[1;33m,\u001b[0m \u001b[1;36m0.0\u001b[0m\u001b[1;33m]\u001b[0m\u001b[1;33m,\u001b[0m \u001b[1;33m[\u001b[0m\u001b[1;36m1.0\u001b[0m\u001b[1;33m,\u001b[0m \u001b[1;36m1.0\u001b[0m\u001b[1;33m,\u001b[0m \u001b[1;36m1.0\u001b[0m\u001b[1;33m]\u001b[0m\u001b[1;33m]\u001b[0m\u001b[1;33m)\u001b[0m\u001b[1;33m\u001b[0m\u001b[0m\n\u001b[1;32m      2\u001b[0m \u001b[0mtargetsInteresting5\u001b[0m \u001b[1;33m=\u001b[0m \u001b[0mnp\u001b[0m\u001b[1;33m.\u001b[0m\u001b[0marray\u001b[0m\u001b[1;33m(\u001b[0m\u001b[1;33m[\u001b[0m\u001b[1;36m0.0\u001b[0m\u001b[1;33m,\u001b[0m \u001b[1;36m1.0\u001b[0m\u001b[1;33m,\u001b[0m \u001b[1;36m1.0\u001b[0m\u001b[1;33m,\u001b[0m \u001b[1;36m1.0\u001b[0m\u001b[1;33m,\u001b[0m \u001b[1;36m1.0\u001b[0m\u001b[1;33m,\u001b[0m \u001b[1;36m1.0\u001b[0m\u001b[1;33m,\u001b[0m \u001b[1;36m0.0\u001b[0m\u001b[1;33m,\u001b[0m \u001b[1;36m1.0\u001b[0m\u001b[1;33m]\u001b[0m\u001b[1;33m)\u001b[0m\u001b[1;33m\u001b[0m\u001b[0m\n\u001b[0;32m----> 3\u001b[0;31m \u001b[0mtrainDNFNetwork\u001b[0m\u001b[1;33m(\u001b[0m\u001b[0mdataInteresting5\u001b[0m\u001b[1;33m,\u001b[0m \u001b[0mtargetsInteresting5\u001b[0m\u001b[1;33m,\u001b[0m \u001b[1;36m3\u001b[0m\u001b[1;33m,\u001b[0m \u001b[1;36m3\u001b[0m\u001b[1;33m)\u001b[0m\u001b[1;33m\u001b[0m\u001b[0m\n\u001b[0m",
      "\u001b[0;32m<ipython-input-34-090a30a393f5>\u001b[0m in \u001b[0;36mtrainDNFNetwork\u001b[0;34m(data, targets, inputNodes, numC, it, lr)\u001b[0m\n\u001b[1;32m     11\u001b[0m \u001b[1;33m\u001b[0m\u001b[0m\n\u001b[1;32m     12\u001b[0m         \u001b[1;32mfor\u001b[0m \u001b[0md\u001b[0m \u001b[1;32min\u001b[0m \u001b[0mnetwork\u001b[0m\u001b[1;33m.\u001b[0m\u001b[0mgetConjunctions\u001b[0m\u001b[1;33m(\u001b[0m\u001b[1;33m)\u001b[0m\u001b[1;33m:\u001b[0m\u001b[1;33m\u001b[0m\u001b[0m\n\u001b[0;32m---> 13\u001b[0;31m             \u001b[0mg\u001b[0m \u001b[1;33m=\u001b[0m \u001b[0mcomputeNeuronGrad\u001b[0m\u001b[1;33m(\u001b[0m\u001b[0mnetwork\u001b[0m\u001b[1;33m,\u001b[0m \u001b[0md\u001b[0m\u001b[1;33m,\u001b[0m \u001b[0mpterb\u001b[0m\u001b[1;33m,\u001b[0m \u001b[0mdata\u001b[0m\u001b[1;33m,\u001b[0m \u001b[0mtargets\u001b[0m\u001b[1;33m)\u001b[0m\u001b[1;33m\u001b[0m\u001b[0m\n\u001b[0m\u001b[1;32m     14\u001b[0m             \u001b[0md\u001b[0m\u001b[1;33m.\u001b[0m\u001b[0msetGrad\u001b[0m\u001b[1;33m(\u001b[0m\u001b[0mg\u001b[0m \u001b[1;33m*\u001b[0m \u001b[0mlr\u001b[0m\u001b[1;33m)\u001b[0m\u001b[1;33m\u001b[0m\u001b[0m\n\u001b[1;32m     15\u001b[0m \u001b[1;33m\u001b[0m\u001b[0m\n",
      "\u001b[0;32m<ipython-input-34-090a30a393f5>\u001b[0m in \u001b[0;36mcomputeNeuronGrad\u001b[0;34m(network, neuron, pterb, data, targets)\u001b[0m\n\u001b[1;32m     29\u001b[0m         \u001b[0mg\u001b[0m\u001b[1;33m[\u001b[0m\u001b[0mk\u001b[0m\u001b[1;33m]\u001b[0m \u001b[1;33m=\u001b[0m \u001b[1;33m-\u001b[0m\u001b[0mpterb\u001b[0m\u001b[1;33m\u001b[0m\u001b[0m\n\u001b[1;32m     30\u001b[0m \u001b[1;33m\u001b[0m\u001b[0m\n\u001b[0;32m---> 31\u001b[0;31m         \u001b[0moldSSE\u001b[0m \u001b[1;33m=\u001b[0m \u001b[0mSSE\u001b[0m\u001b[1;33m(\u001b[0m\u001b[0mnetwork\u001b[0m\u001b[1;33m,\u001b[0m \u001b[0mdata\u001b[0m\u001b[1;33m,\u001b[0m \u001b[0mtargets\u001b[0m\u001b[1;33m)\u001b[0m\u001b[1;33m\u001b[0m\u001b[0m\n\u001b[0m\u001b[1;32m     32\u001b[0m         \u001b[0mneuron\u001b[0m\u001b[1;33m.\u001b[0m\u001b[0mupdateWeights\u001b[0m\u001b[1;33m(\u001b[0m\u001b[0mg\u001b[0m\u001b[1;33m)\u001b[0m\u001b[1;33m\u001b[0m\u001b[0m\n\u001b[1;32m     33\u001b[0m         \u001b[0mnewSSE\u001b[0m \u001b[1;33m=\u001b[0m \u001b[0mSSE\u001b[0m\u001b[1;33m(\u001b[0m\u001b[0mnetwork\u001b[0m\u001b[1;33m,\u001b[0m \u001b[0mdata\u001b[0m\u001b[1;33m,\u001b[0m \u001b[0mtargets\u001b[0m\u001b[1;33m)\u001b[0m\u001b[1;33m\u001b[0m\u001b[0m\n",
      "\u001b[0;32m<ipython-input-33-fc694d80190e>\u001b[0m in \u001b[0;36mSSE\u001b[0;34m(network, data, targets, p)\u001b[0m\n\u001b[1;32m      1\u001b[0m \u001b[1;32mdef\u001b[0m \u001b[0mSSE\u001b[0m\u001b[1;33m(\u001b[0m\u001b[0mnetwork\u001b[0m\u001b[1;33m,\u001b[0m \u001b[0mdata\u001b[0m\u001b[1;33m,\u001b[0m \u001b[0mtargets\u001b[0m\u001b[1;33m,\u001b[0m \u001b[0mp\u001b[0m\u001b[1;33m=\u001b[0m\u001b[1;32mFalse\u001b[0m\u001b[1;33m)\u001b[0m\u001b[1;33m:\u001b[0m\u001b[1;33m\u001b[0m\u001b[0m\n\u001b[0;32m----> 2\u001b[0;31m     \u001b[0mpredictions\u001b[0m \u001b[1;33m=\u001b[0m \u001b[0mpredict\u001b[0m\u001b[1;33m(\u001b[0m\u001b[0mnetwork\u001b[0m\u001b[1;33m,\u001b[0m \u001b[0mdata\u001b[0m\u001b[1;33m)\u001b[0m\u001b[1;33m\u001b[0m\u001b[0m\n\u001b[0m\u001b[1;32m      3\u001b[0m \u001b[1;33m\u001b[0m\u001b[0m\n\u001b[1;32m      4\u001b[0m \u001b[1;31m#     if p:\u001b[0m\u001b[1;33m\u001b[0m\u001b[1;33m\u001b[0m\u001b[0m\n\u001b[1;32m      5\u001b[0m \u001b[1;31m#         print(predictions)\u001b[0m\u001b[1;33m\u001b[0m\u001b[1;33m\u001b[0m\u001b[0m\n",
      "\u001b[0;32m<ipython-input-33-fc694d80190e>\u001b[0m in \u001b[0;36mpredict\u001b[0;34m(network, data)\u001b[0m\n\u001b[1;32m      8\u001b[0m \u001b[1;33m\u001b[0m\u001b[0m\n\u001b[1;32m      9\u001b[0m \u001b[1;32mdef\u001b[0m \u001b[0mpredict\u001b[0m\u001b[1;33m(\u001b[0m\u001b[0mnetwork\u001b[0m\u001b[1;33m,\u001b[0m \u001b[0mdata\u001b[0m\u001b[1;33m)\u001b[0m\u001b[1;33m:\u001b[0m\u001b[1;33m\u001b[0m\u001b[0m\n\u001b[0;32m---> 10\u001b[0;31m     \u001b[0mt\u001b[0m \u001b[1;33m=\u001b[0m \u001b[0mnp\u001b[0m\u001b[1;33m.\u001b[0m\u001b[0marray\u001b[0m\u001b[1;33m(\u001b[0m\u001b[1;33m[\u001b[0m\u001b[0mnetwork\u001b[0m\u001b[1;33m.\u001b[0m\u001b[0mfowardprop\u001b[0m\u001b[1;33m(\u001b[0m\u001b[0md\u001b[0m\u001b[1;33m)\u001b[0m \u001b[1;32mfor\u001b[0m \u001b[0md\u001b[0m \u001b[1;32min\u001b[0m \u001b[0mdata\u001b[0m\u001b[1;33m]\u001b[0m\u001b[1;33m)\u001b[0m\u001b[1;33m\u001b[0m\u001b[0m\n\u001b[0m\u001b[1;32m     11\u001b[0m     \u001b[1;32mreturn\u001b[0m \u001b[0mt\u001b[0m\u001b[1;33m\u001b[0m\u001b[0m\n\u001b[1;32m     12\u001b[0m \u001b[1;33m\u001b[0m\u001b[0m\n",
      "\u001b[0;32m<ipython-input-33-fc694d80190e>\u001b[0m in \u001b[0;36m<listcomp>\u001b[0;34m(.0)\u001b[0m\n\u001b[1;32m      8\u001b[0m \u001b[1;33m\u001b[0m\u001b[0m\n\u001b[1;32m      9\u001b[0m \u001b[1;32mdef\u001b[0m \u001b[0mpredict\u001b[0m\u001b[1;33m(\u001b[0m\u001b[0mnetwork\u001b[0m\u001b[1;33m,\u001b[0m \u001b[0mdata\u001b[0m\u001b[1;33m)\u001b[0m\u001b[1;33m:\u001b[0m\u001b[1;33m\u001b[0m\u001b[0m\n\u001b[0;32m---> 10\u001b[0;31m     \u001b[0mt\u001b[0m \u001b[1;33m=\u001b[0m \u001b[0mnp\u001b[0m\u001b[1;33m.\u001b[0m\u001b[0marray\u001b[0m\u001b[1;33m(\u001b[0m\u001b[1;33m[\u001b[0m\u001b[0mnetwork\u001b[0m\u001b[1;33m.\u001b[0m\u001b[0mfowardprop\u001b[0m\u001b[1;33m(\u001b[0m\u001b[0md\u001b[0m\u001b[1;33m)\u001b[0m \u001b[1;32mfor\u001b[0m \u001b[0md\u001b[0m \u001b[1;32min\u001b[0m \u001b[0mdata\u001b[0m\u001b[1;33m]\u001b[0m\u001b[1;33m)\u001b[0m\u001b[1;33m\u001b[0m\u001b[0m\n\u001b[0m\u001b[1;32m     11\u001b[0m     \u001b[1;32mreturn\u001b[0m \u001b[0mt\u001b[0m\u001b[1;33m\u001b[0m\u001b[0m\n\u001b[1;32m     12\u001b[0m \u001b[1;33m\u001b[0m\u001b[0m\n",
      "\u001b[0;32m<ipython-input-32-a64dce214c06>\u001b[0m in \u001b[0;36mfowardprop\u001b[0;34m(self, inputs)\u001b[0m\n\u001b[1;32m     27\u001b[0m             \u001b[0mdout\u001b[0m \u001b[1;33m=\u001b[0m \u001b[1;33m[\u001b[0m\u001b[1;36m1\u001b[0m\u001b[1;33m]\u001b[0m\u001b[1;33m\u001b[0m\u001b[0m\n\u001b[1;32m     28\u001b[0m             \u001b[1;32mfor\u001b[0m \u001b[0md\u001b[0m \u001b[1;32min\u001b[0m \u001b[0mself\u001b[0m\u001b[1;33m.\u001b[0m\u001b[0mconjunctions\u001b[0m\u001b[1;33m:\u001b[0m\u001b[1;33m\u001b[0m\u001b[0m\n\u001b[0;32m---> 29\u001b[0;31m                 \u001b[0mdout\u001b[0m\u001b[1;33m.\u001b[0m\u001b[0mappend\u001b[0m\u001b[1;33m(\u001b[0m\u001b[0md\u001b[0m\u001b[1;33m.\u001b[0m\u001b[0mpresent\u001b[0m\u001b[1;33m(\u001b[0m\u001b[0mactualIn\u001b[0m\u001b[1;33m)\u001b[0m\u001b[1;33m)\u001b[0m\u001b[1;33m\u001b[0m\u001b[0m\n\u001b[0m\u001b[1;32m     30\u001b[0m \u001b[1;33m\u001b[0m\u001b[0m\n\u001b[1;32m     31\u001b[0m             \u001b[0mactualIn\u001b[0m \u001b[1;33m=\u001b[0m \u001b[0mdout\u001b[0m\u001b[1;33m\u001b[0m\u001b[0m\n",
      "\u001b[0;32m<ipython-input-31-09213c4cc93c>\u001b[0m in \u001b[0;36mpresent\u001b[0;34m(self, inputs)\u001b[0m\n\u001b[1;32m     11\u001b[0m         \u001b[0mi\u001b[0m\u001b[1;33m[\u001b[0m\u001b[1;36m0\u001b[0m\u001b[1;33m]\u001b[0m \u001b[1;33m=\u001b[0m \u001b[1;36m1.0\u001b[0m\u001b[1;33m\u001b[0m\u001b[0m\n\u001b[1;32m     12\u001b[0m \u001b[1;33m\u001b[0m\u001b[0m\n\u001b[0;32m---> 13\u001b[0;31m         \u001b[0mz\u001b[0m \u001b[1;33m=\u001b[0m \u001b[0mnp\u001b[0m\u001b[1;33m.\u001b[0m\u001b[0msum\u001b[0m\u001b[1;33m(\u001b[0m\u001b[0mnp\u001b[0m\u001b[1;33m.\u001b[0m\u001b[0mmultiply\u001b[0m\u001b[1;33m(\u001b[0m\u001b[0mi\u001b[0m\u001b[1;33m,\u001b[0m \u001b[0mself\u001b[0m\u001b[1;33m.\u001b[0m\u001b[0mweights\u001b[0m\u001b[1;33m)\u001b[0m\u001b[1;33m)\u001b[0m\u001b[1;33m\u001b[0m\u001b[0m\n\u001b[0m\u001b[1;32m     14\u001b[0m         \u001b[1;32mreturn\u001b[0m \u001b[0mnp\u001b[0m\u001b[1;33m.\u001b[0m\u001b[0mpower\u001b[0m\u001b[1;33m(\u001b[0m\u001b[0mnp\u001b[0m\u001b[1;33m.\u001b[0m\u001b[0me\u001b[0m\u001b[1;33m,\u001b[0m \u001b[1;33m-\u001b[0m\u001b[0mz\u001b[0m\u001b[1;33m)\u001b[0m\u001b[1;33m\u001b[0m\u001b[0m\n\u001b[1;32m     15\u001b[0m \u001b[1;33m\u001b[0m\u001b[0m\n",
      "\u001b[0;32mC:\\Users\\danie\\Anaconda3\\lib\\site-packages\\autograd\\core.py\u001b[0m in \u001b[0;36m__call__\u001b[0;34m(self, *args, **kwargs)\u001b[0m\n\u001b[1;32m     67\u001b[0m                 \u001b[0mprogenitors\u001b[0m\u001b[1;33m.\u001b[0m\u001b[0mupdate\u001b[0m\u001b[1;33m(\u001b[0m\u001b[0marg\u001b[0m\u001b[1;33m.\u001b[0m\u001b[0mprogenitors\u001b[0m \u001b[1;33m&\u001b[0m \u001b[0mactive_progenitors\u001b[0m\u001b[1;33m)\u001b[0m\u001b[1;33m\u001b[0m\u001b[0m\n\u001b[1;32m     68\u001b[0m \u001b[1;33m\u001b[0m\u001b[0m\n\u001b[0;32m---> 69\u001b[0;31m         \u001b[0mresult_value\u001b[0m \u001b[1;33m=\u001b[0m \u001b[0mself\u001b[0m\u001b[1;33m.\u001b[0m\u001b[0mfun\u001b[0m\u001b[1;33m(\u001b[0m\u001b[1;33m*\u001b[0m\u001b[0margvals\u001b[0m\u001b[1;33m,\u001b[0m \u001b[1;33m**\u001b[0m\u001b[0mkwargs\u001b[0m\u001b[1;33m)\u001b[0m\u001b[1;33m\u001b[0m\u001b[0m\n\u001b[0m\u001b[1;32m     70\u001b[0m         \u001b[1;32mif\u001b[0m \u001b[0mprogenitors\u001b[0m\u001b[1;33m:\u001b[0m\u001b[1;33m\u001b[0m\u001b[0m\n\u001b[1;32m     71\u001b[0m             \u001b[1;32mreturn\u001b[0m \u001b[0mnew_node\u001b[0m\u001b[1;33m(\u001b[0m\u001b[0mresult_value\u001b[0m\u001b[1;33m,\u001b[0m \u001b[1;33m(\u001b[0m\u001b[0mself\u001b[0m\u001b[1;33m,\u001b[0m \u001b[0margs\u001b[0m\u001b[1;33m,\u001b[0m \u001b[0mkwargs\u001b[0m\u001b[1;33m,\u001b[0m \u001b[0mparents\u001b[0m\u001b[1;33m)\u001b[0m\u001b[1;33m,\u001b[0m \u001b[0mprogenitors\u001b[0m\u001b[1;33m)\u001b[0m\u001b[1;33m\u001b[0m\u001b[0m\n",
      "\u001b[0;32mC:\\Users\\danie\\Anaconda3\\lib\\site-packages\\numpy\\core\\fromnumeric.py\u001b[0m in \u001b[0;36msum\u001b[0;34m(a, axis, dtype, out, keepdims)\u001b[0m\n\u001b[1;32m   1846\u001b[0m     \u001b[1;32melse\u001b[0m\u001b[1;33m:\u001b[0m\u001b[1;33m\u001b[0m\u001b[0m\n\u001b[1;32m   1847\u001b[0m         return _methods._sum(a, axis=axis, dtype=dtype,\n\u001b[0;32m-> 1848\u001b[0;31m                             out=out, **kwargs)\n\u001b[0m\u001b[1;32m   1849\u001b[0m \u001b[1;33m\u001b[0m\u001b[0m\n\u001b[1;32m   1850\u001b[0m \u001b[1;33m\u001b[0m\u001b[0m\n",
      "\u001b[0;31mKeyboardInterrupt\u001b[0m: "
     ]
    }
   ],
   "source": [
    "dataInteresting5 = np.array([[0.0, 0.0, 0.0], [0.0, 0.0, 1.0], [0.0, 1.0, 0.0], [0.0, 1.0, 1.0], [1.0, 0.0, 0.0], [1.0, 0.0, 1.0], [1.0, 1.0, 0.0], [1.0, 1.0, 1.0]])\n",
    "targetsInteresting5 = np.array([0.0, 1.0, 1.0, 1.0, 1.0, 1.0, 0.0, 1.0])\n",
    "trainDNFNetwork(dataInteresting5, targetsInteresting5, 3, 3)"
   ]
  },
  {
   "cell_type": "markdown",
   "metadata": {},
   "source": [
    "# (a XOR b) In 3Space\n",
    "DNF: (a AND (NOT b)) OR ((NOT a) AND b)"
   ]
  },
  {
   "cell_type": "code",
   "execution_count": 50,
   "metadata": {
    "collapsed": false
   },
   "outputs": [
    {
     "name": "stdout",
     "output_type": "stream",
     "text": [
      "Conjunctions -> [ 0.  0.  0.  0.  0.  0.], [ 0.  0.  0.  0.  0.  0.], \n",
      "Disjunction -> [ 0.  0.]\n",
      "\n",
      "Initial Loss:  4.0\n",
      "Iteration -> 1000 : 2.00000000239\n",
      "Iteration -> 2000 : 2.00000000237\n",
      "Iteration -> 3000 : 2.00000000235\n",
      "Iteration -> 4000 : 2.00000000233\n",
      "Iteration -> 5000 : 2.00000000231\n",
      "Iteration -> 6000 : 2.00000000229\n",
      "Iteration -> 7000 : 2.00000000227\n",
      "Iteration -> 8000 : 2.00000000225\n",
      "Iteration -> 9000 : 2.00000000224\n",
      "Trained Loss:  2.00000000222\n"
     ]
    },
    {
     "data": {
      "text/plain": [
       "Conjunctions -> [ 0.10351258  0.10351258  0.10351258  0.10351258  0.10351258  0.10351258], [ 0.10351258  0.10351258  0.10351258  0.10351258  0.10351258  0.10351258], \n",
       "Disjunction -> [ 0.41802977  0.41802977]"
      ]
     },
     "execution_count": 50,
     "metadata": {},
     "output_type": "execute_result"
    }
   ],
   "source": [
    "dataInteresting4 = np.array([[0.0, 0.0, 0.0], [0.0, 0.0, 1.0], [0.0, 1.0, 0.0], [0.0, 1.0, 1.0], [1.0, 0.0, 0.0], [1.0, 0.0, 1.0], [1.0, 1.0, 0.0], [1.0, 1.0, 1.0]])\n",
    "targetsInteresting4 = np.array([0.0, 0.0, 1.0, 1.0, 1.0, 1.0, 0.0, 0.0])\n",
    "trainDNFNetwork(dataInteresting4, targetsInteresting4, 3, 2)"
   ]
  },
  {
   "cell_type": "markdown",
   "metadata": {},
   "source": [
    "# (a OR b) in 3Space"
   ]
  },
  {
   "cell_type": "code",
   "execution_count": 51,
   "metadata": {
    "collapsed": false
   },
   "outputs": [
    {
     "name": "stdout",
     "output_type": "stream",
     "text": [
      "Conjunctions -> [ 0.  0.  0.  0.  0.  0.], \n",
      "Disjunction -> [ 0.]\n",
      "\n",
      "Initial Loss:  4.0\n",
      "Iteration -> 1000 : 2.00000000267\n",
      "Iteration -> 2000 : 2.00000000264\n",
      "Iteration -> 3000 : 2.00000000261\n",
      "Iteration -> 4000 : 2.00000000257\n",
      "Iteration -> 5000 : 2.00000000254\n",
      "Iteration -> 6000 : 2.00000000251\n",
      "Iteration -> 7000 : 2.00000000248\n",
      "Iteration -> 8000 : 2.00000000245\n",
      "Iteration -> 9000 : 2.00000000242\n",
      "Trained Loss:  2.00000000239\n"
     ]
    },
    {
     "data": {
      "text/plain": [
       "Conjunctions -> [ 0.07299454  0.07299454  0.07299454  0.07299454  0.07299454  0.07299454], \n",
       "Disjunction -> [ 0.49811337]"
      ]
     },
     "execution_count": 51,
     "metadata": {},
     "output_type": "execute_result"
    }
   ],
   "source": [
    "dataOR3Space = np.array([[0.0, 0.0, 0.0], [0.0, 0.0, 1.0], [0.0, 1.0, 0.0], [0.0, 1.0, 1.0], [1.0, 0.0, 0.0], [1.0, 0.0, 1.0], [1.0, 1.0, 0.0], [1.0, 1.0, 1.0]])\n",
    "targetsOR3Space = np.array([0.0, 0.0, 1.0, 1.0, 1.0, 1.0, 1.0, 1.0])\n",
    "trainDNFNetwork(dataInteresting4, targetsInteresting4, 3, 1)"
   ]
  },
  {
   "cell_type": "code",
   "execution_count": null,
   "metadata": {
    "collapsed": true
   },
   "outputs": [],
   "source": []
  }
 ],
 "metadata": {
  "kernelspec": {
   "display_name": "Python 3",
   "language": "python",
   "name": "python3"
  },
  "language_info": {
   "codemirror_mode": {
    "name": "ipython",
    "version": 3
   },
   "file_extension": ".py",
   "mimetype": "text/x-python",
   "name": "python",
   "nbconvert_exporter": "python",
   "pygments_lexer": "ipython3",
   "version": "3.6.0"
  }
 },
 "nbformat": 4,
 "nbformat_minor": 2
}

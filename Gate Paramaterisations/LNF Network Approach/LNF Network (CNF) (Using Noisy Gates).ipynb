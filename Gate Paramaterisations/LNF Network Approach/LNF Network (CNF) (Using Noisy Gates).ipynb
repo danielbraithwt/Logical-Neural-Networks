{
 "cells": [
  {
   "cell_type": "code",
   "execution_count": 1,
   "metadata": {
    "collapsed": true
   },
   "outputs": [],
   "source": [
    "import autograd.numpy as np\n",
    "from autograd import grad"
   ]
  },
  {
   "cell_type": "code",
   "execution_count": 2,
   "metadata": {
    "collapsed": true
   },
   "outputs": [],
   "source": [
    "class ORNeuron():\n",
    "    def __init__(self, n):\n",
    "        self.n = n\n",
    "        self.weights = np.zeros(n)\n",
    "        \n",
    "    def getWeights(self):\n",
    "        return self.weights    \n",
    "    \n",
    "    def present(self, inputs):\n",
    "        z = np.sum(np.multiply(inputs, self.weights))\n",
    "        return 1 - np.power(np.e, -z)\n",
    "    \n",
    "    def updateWeights(self, g):\n",
    "        self.weights -= g\n",
    "        \n",
    "        for i in range(0, len(self.weights)):\n",
    "            if self.weights[i] < 0:\n",
    "                self.weights[i] = 0\n",
    "        \n",
    "    def setGrad(self, g):\n",
    "        self.grad = g\n",
    "        \n",
    "    def applyGrad(self):\n",
    "        self.updateWeights(self.grad)\n",
    "        self.grad = None\n",
    "        \n",
    "    def __repr__(self):\n",
    "        return str(self.weights[1:len(self.weights)])"
   ]
  },
  {
   "cell_type": "code",
   "execution_count": 3,
   "metadata": {
    "collapsed": true
   },
   "outputs": [],
   "source": [
    "class ANDNeuron():\n",
    "    def __init__(self, n):\n",
    "        self.weights = np.zeros(n)\n",
    "#         self.weights = [1, 0, 1, 0, 1]\n",
    "        \n",
    "    def getWeights(self):\n",
    "        return self.weights\n",
    "        \n",
    "    def present(self, inputs):\n",
    "        i = 1.0 - inputs\n",
    "        i[0] = 1.0\n",
    "        \n",
    "        z = np.sum(np.multiply(i, self.weights))\n",
    "        return np.power(np.e, -z)\n",
    "    \n",
    "    def updateWeights(self, g):\n",
    "        self.weights -= g\n",
    "        \n",
    "        for i in range(0, len(self.weights)):\n",
    "            if self.weights[i] < 0:\n",
    "                self.weights[i] = 0\n",
    "        \n",
    "    def setGrad(self, g):\n",
    "        self.grad = g\n",
    "        \n",
    "    def applyGrad(self):\n",
    "        self.updateWeights(self.grad)\n",
    "        self.grad = None\n",
    "        \n",
    "    def __repr__(self):\n",
    "        return str(self.weights[1:len(self.weights)])"
   ]
  },
  {
   "cell_type": "code",
   "execution_count": 4,
   "metadata": {
    "collapsed": true
   },
   "outputs": [],
   "source": [
    "class CNFNetwork():\n",
    "    def __init__(self, n, c):\n",
    "        self.n = n\n",
    "        self.c = c\n",
    "        \n",
    "        d = []\n",
    "        for i in range(0, c):\n",
    "            d.append(ORNeuron(n*2 + 1))\n",
    "        \n",
    "        self.disjunctions = np.array(d)\n",
    "        \n",
    "        if not c == 0:\n",
    "            self.conjunction = ANDNeuron(c + 1)\n",
    "        else:\n",
    "            self.conjunction = ANDNeuron(n*2 + 1)\n",
    "        \n",
    "    def getDisjunctions(self):\n",
    "        return self.disjunctions\n",
    "    \n",
    "    def getConjunction(self):\n",
    "        return self.conjunction\n",
    "    \n",
    "    def fowardprop(self, inputs):\n",
    "        actualIn = self.__convertInputs__(inputs)\n",
    "        \n",
    "        if not self.c == 0:\n",
    "            dout = [1]\n",
    "            for d in self.disjunctions:\n",
    "                dout.append(d.present(actualIn))\n",
    "            \n",
    "            actualIn = dout\n",
    "            \n",
    "        return self.conjunction.present(np.array(actualIn))\n",
    "    \n",
    "    def __convertInputs__(self, inputs):\n",
    "        actual = [1]\n",
    "        \n",
    "        for i in inputs:\n",
    "            actual.append(i)\n",
    "            actual.append(1-i)\n",
    "        \n",
    "        return np.array(actual)\n",
    "    \n",
    "    def __repr__(self):\n",
    "        s = \"Disjunctions -> \"\n",
    "        for d in self.disjunctions:\n",
    "            s += (str(d) + \", \")\n",
    "            \n",
    "        s += (\"\\nConjunction -> \" + str(self.conjunction) + \"\\n\")\n",
    "            \n",
    "        return s"
   ]
  },
  {
   "cell_type": "code",
   "execution_count": 5,
   "metadata": {
    "collapsed": true
   },
   "outputs": [],
   "source": [
    "def SSE(network, data, targets, p=False):\n",
    "    predictions = predict(network, data)\n",
    "    \n",
    "#     if p:\n",
    "#         print(predictions)\n",
    "    \n",
    "    return np.sum(np.power(np.subtract(targets, predictions), 2.0))\n",
    "    \n",
    "def predict(network, data):\n",
    "    t = np.array([network.fowardprop(d) for d in data])\n",
    "    return t\n",
    "    "
   ]
  },
  {
   "cell_type": "code",
   "execution_count": 18,
   "metadata": {
    "collapsed": true
   },
   "outputs": [],
   "source": [
    "def trainCNFNetwork(data, targets, inputNodes, numC, it=10000, lr=0.1):\n",
    "    network = CNFNetwork(inputNodes, numC)\n",
    "    print(network)\n",
    "    print(\"Initial Loss: \", SSE(network, data, targets, True))\n",
    "    \n",
    "    pterb = 0.0001\n",
    "    \n",
    "    for i in range(1, it):\n",
    "        if i%1000 == 0:\n",
    "            print(\"Iteration -> \" + str(i) + \" : \" + str(SSE(network, data, targets)))\n",
    "            \n",
    "        for d in network.getDisjunctions():\n",
    "            g = computeNeuronGrad(network, d, pterb, data, targets)\n",
    "            d.setGrad(g * lr)\n",
    "            \n",
    "        g = computeNeuronGrad(network, network.getConjunction(), pterb, data, targets)\n",
    "        \n",
    "        network.getConjunction().updateWeights(g * lr)\n",
    "        for d in network.getDisjunctions():\n",
    "            d.applyGrad()\n",
    "            \n",
    "    print(\"Trained Loss: \", SSE(network, data, targets, True))\n",
    "    return network\n",
    "\n",
    "def computeNeuronGrad(network, neuron, pterb, data, targets):\n",
    "    gradient = np.zeros(len(neuron.getWeights()))\n",
    "    for k in range(0, len(neuron.getWeights())):\n",
    "        g = np.zeros(len(neuron.getWeights()))\n",
    "        g[k] = -pterb\n",
    "\n",
    "        oldSSE = SSE(network, data, targets)\n",
    "        neuron.updateWeights(g)\n",
    "        newSSE = SSE(network, data, targets)\n",
    "        neuron.updateWeights(-g)\n",
    "                \n",
    "        gradient[k] = (newSSE - oldSSE)/pterb\n",
    "        \n",
    "    return gradient"
   ]
  },
  {
   "cell_type": "markdown",
   "metadata": {},
   "source": [
    "# NOT"
   ]
  },
  {
   "cell_type": "code",
   "execution_count": 7,
   "metadata": {
    "collapsed": false
   },
   "outputs": [
    {
     "name": "stdout",
     "output_type": "stream",
     "text": [
      "Disjunctions -> \n",
      "Conjunction -> [ 0.  0.]\n",
      "\n",
      "Initial Loss:  1.0\n",
      "Iteration -> 1000 : 0.00256401191544\n",
      "Iteration -> 2000 : 0.00126785197053\n",
      "Iteration -> 3000 : 0.00084175558195\n",
      "Iteration -> 4000 : 0.00062993425912\n",
      "Iteration -> 5000 : 0.000503256413748\n",
      "Iteration -> 6000 : 0.000418984388068\n",
      "Iteration -> 7000 : 0.000358880936175\n",
      "Iteration -> 8000 : 0.000313854296033\n",
      "Iteration -> 9000 : 0.000278864414562\n",
      "Trained Loss:  0.000250892296604\n"
     ]
    },
    {
     "data": {
      "text/plain": [
       "Disjunctions -> \n",
       "Conjunction -> [ 0.         4.1451229]"
      ]
     },
     "execution_count": 7,
     "metadata": {},
     "output_type": "execute_result"
    }
   ],
   "source": [
    "dataNOT = np.array([[1.0], [0.0]])\n",
    "targetsNOT = np.array([0.0, 1.0])\n",
    "trainCNFNetwork(dataNOT, targetsNOT, 1, 0)"
   ]
  },
  {
   "cell_type": "markdown",
   "metadata": {},
   "source": [
    "# AND\n",
    "For this we dont neeed any disjunctions"
   ]
  },
  {
   "cell_type": "code",
   "execution_count": null,
   "metadata": {
    "collapsed": true
   },
   "outputs": [],
   "source": []
  },
  {
   "cell_type": "code",
   "execution_count": 8,
   "metadata": {
    "collapsed": false,
    "scrolled": true
   },
   "outputs": [
    {
     "name": "stdout",
     "output_type": "stream",
     "text": [
      "Disjunctions -> \n",
      "Conjunction -> [ 0.  0.  0.  0.]\n",
      "\n",
      "Initial Loss:  3.0\n",
      "Iteration -> 1000 : 0.00521300404887\n",
      "Iteration -> 2000 : 0.00255871843019\n",
      "Iteration -> 3000 : 0.00169422754186\n",
      "Iteration -> 4000 : 0.00126609639561\n",
      "Iteration -> 5000 : 0.00101059935924\n",
      "Iteration -> 6000 : 0.000840864237408\n",
      "Iteration -> 7000 : 0.000719925065581\n",
      "Iteration -> 8000 : 0.000629388630652\n",
      "Iteration -> 9000 : 0.000559072863644\n",
      "Trained Loss:  0.000502885248704\n"
     ]
    },
    {
     "data": {
      "text/plain": [
       "Disjunctions -> \n",
       "Conjunction -> [ 4.1439617  0.         4.1439617  0.       ]"
      ]
     },
     "execution_count": 8,
     "metadata": {},
     "output_type": "execute_result"
    }
   ],
   "source": [
    "dataAND = np.array([[0.0, 0.0], [0.0, 1.0], [1.0, 0.0], [1.0, 1.0]])\n",
    "targetsAND = np.array([0.0, 0.0, 0.0, 1.0])\n",
    "trainCNFNetwork(dataAND, targetsAND, 2, 0)"
   ]
  },
  {
   "cell_type": "markdown",
   "metadata": {
    "collapsed": true
   },
   "source": [
    "# OR"
   ]
  },
  {
   "cell_type": "code",
   "execution_count": 9,
   "metadata": {
    "collapsed": false
   },
   "outputs": [
    {
     "name": "stdout",
     "output_type": "stream",
     "text": [
      "Disjunctions -> [ 0.  0.  0.  0.], \n",
      "Conjunction -> [ 0.]\n",
      "\n",
      "Initial Loss:  1.0\n",
      "Iteration -> 1000 : 0.0150297778406\n",
      "Iteration -> 2000 : 0.00672034538128\n",
      "Iteration -> 3000 : 0.00424944234522\n",
      "Iteration -> 4000 : 0.00308440448997\n",
      "Iteration -> 5000 : 0.00241143593159\n",
      "Iteration -> 6000 : 0.00197491656694\n",
      "Iteration -> 7000 : 0.00166962036877\n",
      "Iteration -> 8000 : 0.00144449093602\n",
      "Iteration -> 9000 : 0.00127182713277\n",
      "Trained Loss:  0.00113532699449\n"
     ]
    },
    {
     "data": {
      "text/plain": [
       "Disjunctions -> [ 5.32906187  0.          5.32906187  0.        ], \n",
       "Conjunction -> [ 3.8528426]"
      ]
     },
     "execution_count": 9,
     "metadata": {},
     "output_type": "execute_result"
    }
   ],
   "source": [
    "dataOR = np.array([[0.0, 0.0], [0.0, 1.0], [1.0, 0.0], [1.0, 1.0]])\n",
    "targetsOR = np.array([0.0, 1.0, 1.0, 1.0])\n",
    "trainCNFNetwork(dataOR, targetsOR, 2, 1)"
   ]
  },
  {
   "cell_type": "markdown",
   "metadata": {},
   "source": [
    "# NAND"
   ]
  },
  {
   "cell_type": "code",
   "execution_count": 10,
   "metadata": {
    "collapsed": false
   },
   "outputs": [
    {
     "name": "stdout",
     "output_type": "stream",
     "text": [
      "Disjunctions -> [ 0.  0.  0.  0.], \n",
      "Conjunction -> [ 0.]\n",
      "\n",
      "Initial Loss:  1.0\n",
      "Iteration -> 1000 : 0.0150297778406\n",
      "Iteration -> 2000 : 0.00672034538128\n",
      "Iteration -> 3000 : 0.00424944234522\n",
      "Iteration -> 4000 : 0.00308440448997\n",
      "Iteration -> 5000 : 0.00241143593159\n",
      "Iteration -> 6000 : 0.00197491656694\n",
      "Iteration -> 7000 : 0.00166962036877\n",
      "Iteration -> 8000 : 0.00144449093602\n",
      "Iteration -> 9000 : 0.00127182713277\n",
      "Trained Loss:  0.00113532699449\n"
     ]
    },
    {
     "data": {
      "text/plain": [
       "Disjunctions -> [ 0.          5.32906187  0.          5.32906187], \n",
       "Conjunction -> [ 3.8528426]"
      ]
     },
     "execution_count": 10,
     "metadata": {},
     "output_type": "execute_result"
    }
   ],
   "source": [
    "dataNAND = np.array([[0.0, 0.0], [0.0, 1.0], [1.0, 0.0], [1.0, 1.0]])\n",
    "targetsNAND = np.array([1.0, 1.0, 1.0, 0.0])\n",
    "trainCNFNetwork(dataNAND, targetsNAND, 2, 1)"
   ]
  },
  {
   "cell_type": "markdown",
   "metadata": {},
   "source": [
    "# NOR"
   ]
  },
  {
   "cell_type": "code",
   "execution_count": 11,
   "metadata": {
    "collapsed": false
   },
   "outputs": [
    {
     "name": "stdout",
     "output_type": "stream",
     "text": [
      "Disjunctions -> [ 0.  0.  0.  0.], [ 0.  0.  0.  0.], \n",
      "Conjunction -> [ 0.  0.]\n",
      "\n",
      "Initial Loss:  3.0\n",
      "Iteration -> 1000 : 0.164350645679\n",
      "Iteration -> 2000 : 0.128286733334\n",
      "Iteration -> 3000 : 0.111067878193\n",
      "Iteration -> 4000 : 0.100277704434\n",
      "Iteration -> 5000 : 0.0907306733978\n",
      "Iteration -> 6000 : 0.0201244231162\n",
      "Iteration -> 7000 : 0.00703532138668\n",
      "Iteration -> 8000 : 0.00401902263375\n",
      "Iteration -> 9000 : 0.00276226569966\n",
      "Trained Loss:  0.00208668761737\n"
     ]
    },
    {
     "data": {
      "text/plain": [
       "Disjunctions -> [ 0.          0.61359876  0.          5.30683655], [ 0.          5.30683655  0.          0.61359876], \n",
       "Conjunction -> [ 7.65540844  7.65540844]"
      ]
     },
     "execution_count": 11,
     "metadata": {},
     "output_type": "execute_result"
    }
   ],
   "source": [
    "dataNAND = np.array([[0.0, 0.0], [0.0, 1.0], [1.0, 0.0], [1.0, 1.0]])\n",
    "targetsNAND = np.array([1.0, 0.0, 0.0, 0.0])\n",
    "trainCNFNetwork(dataNAND, targetsNAND, 2, 2)"
   ]
  },
  {
   "cell_type": "markdown",
   "metadata": {},
   "source": [
    "# XOR"
   ]
  },
  {
   "cell_type": "code",
   "execution_count": 12,
   "metadata": {
    "collapsed": false
   },
   "outputs": [
    {
     "name": "stdout",
     "output_type": "stream",
     "text": [
      "Disjunctions -> [ 0.  0.  0.  0.], [ 0.  0.  0.  0.], \n",
      "Conjunction -> [ 0.  0.]\n",
      "\n",
      "Initial Loss:  2.0\n",
      "Iteration -> 1000 : 0.99999984452\n",
      "Iteration -> 2000 : 0.061500579224\n",
      "Iteration -> 3000 : 0.0182706198497\n",
      "Iteration -> 4000 : 0.0103453313434\n",
      "Iteration -> 5000 : 0.00713334507329\n",
      "Iteration -> 6000 : 0.00541386293744\n",
      "Iteration -> 7000 : 0.00434882132719\n",
      "Iteration -> 8000 : 0.00362674759388\n",
      "Iteration -> 9000 : 0.00310608455827\n",
      "Trained Loss:  0.0027134719969\n"
     ]
    },
    {
     "data": {
      "text/plain": [
       "Disjunctions -> [ 0.          5.55765349  0.          5.55765349], [ 5.55765349  0.          5.55765349  0.        ], \n",
       "Conjunction -> [ 3.76454176  3.76454176]"
      ]
     },
     "execution_count": 12,
     "metadata": {},
     "output_type": "execute_result"
    }
   ],
   "source": [
    "dataNAND = np.array([[0.0, 0.0], [0.0, 1.0], [1.0, 0.0], [1.0, 1.0]])\n",
    "targetsNAND = np.array([0.0, 1.0, 1.0, 0.0])\n",
    "trainCNFNetwork(dataNAND, targetsNAND, 2, 2)"
   ]
  },
  {
   "cell_type": "markdown",
   "metadata": {
    "collapsed": true
   },
   "source": [
    "# IMPLIES"
   ]
  },
  {
   "cell_type": "code",
   "execution_count": 13,
   "metadata": {
    "collapsed": false
   },
   "outputs": [
    {
     "name": "stdout",
     "output_type": "stream",
     "text": [
      "Disjunctions -> [ 0.  0.  0.  0.], \n",
      "Conjunction -> [ 0.]\n",
      "\n",
      "Initial Loss:  1.0\n",
      "Iteration -> 1000 : 0.0150297778406\n",
      "Iteration -> 2000 : 0.00672034538128\n",
      "Iteration -> 3000 : 0.00424944234522\n",
      "Iteration -> 4000 : 0.00308440448997\n",
      "Iteration -> 5000 : 0.00241143593159\n",
      "Iteration -> 6000 : 0.00197491656694\n",
      "Iteration -> 7000 : 0.00166962036877\n",
      "Iteration -> 8000 : 0.00144449093602\n",
      "Iteration -> 9000 : 0.00127182713277\n",
      "Trained Loss:  0.00113532699449\n"
     ]
    },
    {
     "data": {
      "text/plain": [
       "Disjunctions -> [ 0.          5.32906187  5.32906187  0.        ], \n",
       "Conjunction -> [ 3.8528426]"
      ]
     },
     "execution_count": 13,
     "metadata": {},
     "output_type": "execute_result"
    }
   ],
   "source": [
    "dataIMPLYS = np.array([[0.0, 0.0], [0.0, 1.0], [1.0, 0.0], [1.0, 1.0]])\n",
    "targetsIMPLYS = np.array([1.0, 1.0, 0.0, 1.0])\n",
    "trainCNFNetwork(dataIMPLYS, targetsIMPLYS, 2, 1)"
   ]
  },
  {
   "cell_type": "markdown",
   "metadata": {
    "collapsed": true
   },
   "source": [
    "# Complicated Formula"
   ]
  },
  {
   "cell_type": "markdown",
   "metadata": {},
   "source": [
    "## (a AND b) OR (NOT c)\n",
    "CNF: (a OR (NOT c)) AND (b OR (NOT c))"
   ]
  },
  {
   "cell_type": "code",
   "execution_count": 14,
   "metadata": {
    "collapsed": false
   },
   "outputs": [
    {
     "name": "stdout",
     "output_type": "stream",
     "text": [
      "Disjunctions -> [ 0.  0.  0.  0.  0.  0.], [ 0.  0.  0.  0.  0.  0.], \n",
      "Conjunction -> [ 0.  0.]\n",
      "\n",
      "Initial Loss:  3.0\n",
      "Iteration -> 1000 : 0.188245329808\n",
      "Iteration -> 2000 : 0.140881002185\n",
      "Iteration -> 3000 : 0.119610350983\n",
      "Iteration -> 4000 : 0.106739853938\n",
      "Iteration -> 5000 : 0.0978263887245\n",
      "Iteration -> 6000 : 0.0911547824558\n",
      "Iteration -> 7000 : 0.0859022127485\n",
      "Iteration -> 8000 : 0.0816171925518\n",
      "Iteration -> 9000 : 0.0780281064768\n",
      "Iteration -> 10000 : 0.0749601834484\n",
      "Iteration -> 11000 : 0.0722946107556\n",
      "Iteration -> 12000 : 0.0696147187254\n",
      "Iteration -> 13000 : 0.0324331297828\n",
      "Iteration -> 14000 : 0.00977710251044\n",
      "Iteration -> 15000 : 0.00530480349437\n",
      "Iteration -> 16000 : 0.00359329660001\n",
      "Iteration -> 17000 : 0.00270668498017\n",
      "Iteration -> 18000 : 0.00216774647356\n",
      "Iteration -> 19000 : 0.00180639577969\n",
      "Iteration -> 20000 : 0.00154749473692\n",
      "Iteration -> 21000 : 0.00135300684304\n",
      "Iteration -> 22000 : 0.00120163570638\n",
      "Iteration -> 23000 : 0.00108052938038\n",
      "Iteration -> 24000 : 0.000981474008979\n",
      "Iteration -> 25000 : 0.000898975919266\n",
      "Iteration -> 26000 : 0.000829222548188\n",
      "Iteration -> 27000 : 0.000769485721254\n",
      "Iteration -> 28000 : 0.000717762150546\n",
      "Iteration -> 29000 : 0.000672547983466\n",
      "Trained Loss:  0.000632692511963\n"
     ]
    },
    {
     "data": {
      "text/plain": [
       "Disjunctions -> [ 0.70579929  0.36008377  6.20824543  0.          0.          7.16114602], [ 6.20824543  0.          0.70579929  0.36008377  0.          7.16114602], \n",
       "Conjunction -> [ 10.27165315  10.27165315]"
      ]
     },
     "execution_count": 14,
     "metadata": {},
     "output_type": "execute_result"
    }
   ],
   "source": [
    "dataInteresting1 = np.array([[0.0, 0.0, 0.0], [0.0, 0.0, 1.0], [0.0, 1.0, 0.0], [0.0, 1.0, 1.0], [1.0, 0.0, 0.0], [1.0, 0.0, 1.0], [1.0, 1.0, 0.0], [1.0, 1.0, 1.0]])\n",
    "targetsInteresting1 = np.array([1.0, 0.0, 1.0, 0.0, 1.0, 0.0, 1.0, 1.0])\n",
    "trainCNFNetwork(dataInteresting1, targetsInteresting1, 3, 2, 30000)"
   ]
  },
  {
   "cell_type": "markdown",
   "metadata": {},
   "source": [
    "## NOT ( a AND b AND c)\n",
    "CNF: (NOT a) OR (NOT b) OR (NOT c)"
   ]
  },
  {
   "cell_type": "code",
   "execution_count": 15,
   "metadata": {
    "collapsed": false
   },
   "outputs": [
    {
     "name": "stdout",
     "output_type": "stream",
     "text": [
      "Disjunctions -> [ 0.  0.  0.  0.  0.  0.], \n",
      "Conjunction -> [ 0.]\n",
      "\n",
      "Initial Loss:  1.0\n",
      "Iteration -> 1000 : 0.0222633324774\n",
      "Iteration -> 2000 : 0.00976943121523\n",
      "Iteration -> 3000 : 0.00612037538354\n",
      "Iteration -> 4000 : 0.00441688595444\n",
      "Iteration -> 5000 : 0.00343932422994\n",
      "Iteration -> 6000 : 0.00280824022053\n",
      "Iteration -> 7000 : 0.00236848025542\n",
      "Iteration -> 8000 : 0.00204514531646\n",
      "Iteration -> 9000 : 0.00179776246315\n",
      "Trained Loss:  0.00160259270776\n"
     ]
    },
    {
     "data": {
      "text/plain": [
       "Disjunctions -> [ 0.          5.29247297  0.          5.29247297  0.          5.29247297], \n",
       "Conjunction -> [ 3.74587818]"
      ]
     },
     "execution_count": 15,
     "metadata": {},
     "output_type": "execute_result"
    }
   ],
   "source": [
    "dataInteresting2 = np.array([[0.0, 0.0, 0.0], [0.0, 0.0, 1.0], [0.0, 1.0, 0.0], [0.0, 1.0, 1.0], [1.0, 0.0, 0.0], [1.0, 0.0, 1.0], [1.0, 1.0, 0.0], [1.0, 1.0, 1.0]])\n",
    "targetsInteresting2 = np.array([1.0, 1.0, 1.0, 1.0, 1.0, 1.0, 1.0, 0.0])\n",
    "trainCNFNetwork(dataInteresting2, targetsInteresting2, 3, 1)"
   ]
  },
  {
   "cell_type": "markdown",
   "metadata": {},
   "source": [
    "## a AND b AND c"
   ]
  },
  {
   "cell_type": "code",
   "execution_count": 16,
   "metadata": {
    "collapsed": false
   },
   "outputs": [
    {
     "name": "stdout",
     "output_type": "stream",
     "text": [
      "Disjunctions -> [ 0.  0.  0.  0.  0.  0.], [ 0.  0.  0.  0.  0.  0.], [ 0.  0.  0.  0.  0.  0.], \n",
      "Conjunction -> [ 0.  0.  0.]\n",
      "\n",
      "Initial Loss:  7.0\n",
      "Iteration -> 1000 : 0.347514605059\n",
      "Iteration -> 2000 : 0.303266828533\n",
      "Iteration -> 3000 : 0.280104610647\n",
      "Iteration -> 4000 : 0.264657474292\n",
      "Iteration -> 5000 : 0.253193528062\n",
      "Iteration -> 6000 : 0.243943864912\n",
      "Iteration -> 7000 : 0.134907926008\n",
      "Iteration -> 8000 : 0.0231243737434\n",
      "Iteration -> 9000 : 0.00937534748946\n",
      "Trained Loss:  0.00561424155181\n"
     ]
    },
    {
     "data": {
      "text/plain": [
       "Disjunctions -> [ 0.74919618  0.          5.05014699  0.          0.          0.        ], [ 5.0726418   0.          0.72819192  0.          0.          0.        ], [ 0.          0.          0.68057589  0.          5.25965127  0.        ], \n",
       "Conjunction -> [ 7.88601705  7.78745151  7.70734391]"
      ]
     },
     "execution_count": 16,
     "metadata": {},
     "output_type": "execute_result"
    }
   ],
   "source": [
    "dataInteresting3 = np.array([[0.0, 0.0, 0.0], [0.0, 0.0, 1.0], [0.0, 1.0, 0.0], [0.0, 1.0, 1.0], [1.0, 0.0, 0.0], [1.0, 0.0, 1.0], [1.0, 1.0, 0.0], [1.0, 1.0, 1.0]])\n",
    "targetsInteresting3 = np.array([0.0, 0.0, 0.0, 0.0, 0.0, 0.0, 0.0, 1.0])\n",
    "trainCNFNetwork(dataInteresting3, targetsInteresting3, 3, 3)"
   ]
  },
  {
   "cell_type": "markdown",
   "metadata": {
    "collapsed": true
   },
   "source": [
    "# (a XOR b) AND c\n",
    "CNF: ((NOT a) OR (NOT b)) AND (a OR b) AND c"
   ]
  },
  {
   "cell_type": "code",
   "execution_count": 20,
   "metadata": {
    "collapsed": false
   },
   "outputs": [
    {
     "name": "stdout",
     "output_type": "stream",
     "text": [
      "Disjunctions -> [ 0.  0.  0.  0.  0.  0.], [ 0.  0.  0.  0.  0.  0.], [ 0.  0.  0.  0.  0.  0.], \n",
      "Conjunction -> [ 0.  0.  0.]\n",
      "\n",
      "Initial Loss:  6.0\n",
      "Iteration -> 1000 : 1.00429531366\n",
      "Iteration -> 2000 : 1.0017110436\n",
      "Iteration -> 3000 : 1.00103725185\n",
      "Iteration -> 4000 : 1.00073622224\n",
      "Iteration -> 5000 : 1.00056756602\n",
      "Iteration -> 6000 : 1.00046033898\n",
      "Iteration -> 7000 : 1.00038641357\n",
      "Iteration -> 8000 : 1.00033248866\n",
      "Iteration -> 9000 : 1.00029148315\n",
      "Iteration -> 10000 : 1.00025929061\n",
      "Iteration -> 11000 : 1.0002333701\n",
      "Iteration -> 12000 : 1.00021206727\n",
      "Iteration -> 13000 : 1.00019425979\n",
      "Iteration -> 14000 : 1.00017916005\n",
      "Iteration -> 15000 : 1.00016619944\n",
      "Iteration -> 16000 : 1.00015495734\n",
      "Iteration -> 17000 : 1.00014511615\n",
      "Iteration -> 18000 : 1.00013643157\n",
      "Iteration -> 19000 : 1.00012871276\n",
      "Iteration -> 20000 : 1.00012180844\n",
      "Iteration -> 21000 : 1.00011559723\n",
      "Iteration -> 22000 : 1.00010998062\n",
      "Iteration -> 23000 : 1.00010487782\n",
      "Iteration -> 24000 : 1.00010022199\n",
      "Iteration -> 25000 : 1.00009595734\n",
      "Iteration -> 26000 : 1.00009203695\n",
      "Iteration -> 27000 : 1.00008842109\n",
      "Iteration -> 28000 : 1.00008507589\n",
      "Iteration -> 29000 : 1.00008197228\n",
      "Trained Loss:  1.00007908522\n"
     ]
    },
    {
     "data": {
      "text/plain": [
       "Disjunctions -> [ 0.          0.          0.          0.          2.05561091  0.        ], [ 0.          0.          0.          0.          2.05561091  0.        ], [ 0.          0.          0.          0.          2.05561091  0.        ], \n",
       "Conjunction -> [ 1.80526225  1.80526225  1.80526225]"
      ]
     },
     "execution_count": 20,
     "metadata": {},
     "output_type": "execute_result"
    }
   ],
   "source": [
    "dataInteresting4 = np.array([[0.0, 0.0, 0.0], [0.0, 0.0, 1.0], [0.0, 1.0, 0.0], [0.0, 1.0, 1.0], [1.0, 0.0, 0.0], [1.0, 0.0, 1.0], [1.0, 1.0, 0.0], [1.0, 1.0, 1.0]])\n",
    "targetsInteresting4 = np.array([0.0, 0.0, 0.0, 1.0, 0.0, 1.0, 0.0, 0.0])\n",
    "trainCNFNetwork(dataInteresting4, targetsInteresting4, 3, 3, 30000, 0.05)"
   ]
  },
  {
   "cell_type": "code",
   "execution_count": null,
   "metadata": {
    "collapsed": true
   },
   "outputs": [],
   "source": []
  }
 ],
 "metadata": {
  "kernelspec": {
   "display_name": "Python 3",
   "language": "python",
   "name": "python3"
  },
  "language_info": {
   "codemirror_mode": {
    "name": "ipython",
    "version": 3
   },
   "file_extension": ".py",
   "mimetype": "text/x-python",
   "name": "python",
   "nbconvert_exporter": "python",
   "pygments_lexer": "ipython3",
   "version": "3.6.0"
  }
 },
 "nbformat": 4,
 "nbformat_minor": 2
}

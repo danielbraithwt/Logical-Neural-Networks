{
 "cells": [
  {
   "cell_type": "code",
   "execution_count": 1,
   "metadata": {
    "collapsed": true
   },
   "outputs": [],
   "source": [
    "import autograd.numpy as np\n",
    "from autograd import grad"
   ]
  },
  {
   "cell_type": "code",
   "execution_count": 2,
   "metadata": {
    "collapsed": true
   },
   "outputs": [],
   "source": [
    "class ORNeuron():\n",
    "    def __init__(self, n):\n",
    "        self.n = n\n",
    "        self.weights = np.random.rand(n)\n",
    "        \n",
    "    def getWeights(self):\n",
    "        return self.weights    \n",
    "    \n",
    "    def present(self, inputs):\n",
    "        z = np.sum(np.multiply(inputs, self.weights))\n",
    "        return 1 - np.power(np.e, -z)\n",
    "    \n",
    "    def updateWeights(self, g):\n",
    "        self.weights -= g\n",
    "        \n",
    "        for i in range(0, len(self.weights)):\n",
    "            if self.weights[i] < 0:\n",
    "                self.weights[i] = 0\n",
    "        \n",
    "    def setGrad(self, g):\n",
    "        self.grad = g\n",
    "        \n",
    "    def applyGrad(self):\n",
    "        self.updateWeights(self.grad)\n",
    "        self.grad = None\n",
    "        \n",
    "    def __repr__(self):\n",
    "        return str(self.weights[1:len(self.weights)])"
   ]
  },
  {
   "cell_type": "code",
   "execution_count": 3,
   "metadata": {
    "collapsed": true
   },
   "outputs": [],
   "source": [
    "class ANDNeuron():\n",
    "    def __init__(self, n):\n",
    "        self.weights = np.random.rand(n)\n",
    "        \n",
    "    def getWeights(self):\n",
    "        return self.weights\n",
    "        \n",
    "    def present(self, inputs):\n",
    "        i = 1.0 - inputs\n",
    "        i[0] = 1.0\n",
    "        \n",
    "        z = np.sum(np.multiply(i, self.weights))\n",
    "        return np.power(np.e, -z)\n",
    "    \n",
    "    def updateWeights(self, g):\n",
    "        self.weights -= g\n",
    "        \n",
    "        for i in range(0, len(self.weights)):\n",
    "            if self.weights[i] < 0:\n",
    "                self.weights[i] = 0\n",
    "        \n",
    "    def setGrad(self, g):\n",
    "        self.grad = g\n",
    "        \n",
    "    def applyGrad(self):\n",
    "        self.updateWeights(self.grad)\n",
    "        self.grad = None\n",
    "        \n",
    "    def __repr__(self):\n",
    "        return str(self.weights[1:len(self.weights)])"
   ]
  },
  {
   "cell_type": "code",
   "execution_count": 4,
   "metadata": {
    "collapsed": true
   },
   "outputs": [],
   "source": [
    "class CNFNetwork():\n",
    "    def __init__(self, n, c):\n",
    "        self.n = n\n",
    "        self.c = c\n",
    "        \n",
    "        d = []\n",
    "        for i in range(0, c):\n",
    "            d.append(ORNeuron(n*2 + 1))\n",
    "        \n",
    "        self.disjunctions = np.array(d)\n",
    "        \n",
    "        if not c == 0:\n",
    "            self.conjunction = ANDNeuron(c + 1)\n",
    "        else:\n",
    "            self.conjunction = ANDNeuron(n*2 + 1)\n",
    "        \n",
    "    def getDisjunctions(self):\n",
    "        return self.disjunctions\n",
    "    \n",
    "    def getConjunction(self):\n",
    "        return self.conjunction\n",
    "    \n",
    "    def fowardprop(self, inputs):\n",
    "        actualIn = self.__convertInputs__(inputs)\n",
    "        \n",
    "        if not self.c == 0:\n",
    "            dout = [1]\n",
    "            for d in self.disjunctions:\n",
    "                dout.append(d.present(actualIn))\n",
    "            \n",
    "            actualIn = dout\n",
    "            \n",
    "        return self.conjunction.present(np.array(actualIn))\n",
    "    \n",
    "    def __convertInputs__(self, inputs):\n",
    "        actual = [1]\n",
    "        \n",
    "        for i in inputs:\n",
    "            actual.append(i)\n",
    "            actual.append(1-i)\n",
    "        \n",
    "        return np.array(actual)\n",
    "    \n",
    "    def __repr__(self):\n",
    "        s = \"Disjunctions -> \"\n",
    "        for d in self.disjunctions:\n",
    "            s += (str(d) + \", \")\n",
    "            \n",
    "        s += (\"\\nConjunction -> \" + str(self.conjunction) + \"\\n\")\n",
    "            \n",
    "        return s"
   ]
  },
  {
   "cell_type": "code",
   "execution_count": 5,
   "metadata": {
    "collapsed": true
   },
   "outputs": [],
   "source": [
    "def SSE(network, data, targets, p=False):\n",
    "    predictions = predict(network, data)\n",
    "    \n",
    "#     if p:\n",
    "#         print(predictions)\n",
    "    \n",
    "    return np.sum(np.power(np.subtract(targets, predictions), 2.0))\n",
    "    \n",
    "def predict(network, data):\n",
    "    t = np.array([network.fowardprop(d) for d in data])\n",
    "    return t\n",
    "    "
   ]
  },
  {
   "cell_type": "code",
   "execution_count": 6,
   "metadata": {
    "collapsed": true
   },
   "outputs": [],
   "source": [
    "def trainCNFNetwork(data, targets, inputNodes, numC, it=10000, lr=0.1):\n",
    "    network = CNFNetwork(inputNodes, numC)\n",
    "    print(network)\n",
    "    print(\"Initial Loss: \", SSE(network, data, targets, True))\n",
    "    \n",
    "    pterb = 0.0001\n",
    "    \n",
    "    for i in range(1, it):\n",
    "        if i%1000 == 0:\n",
    "            print(\"Iteration -> \" + str(i) + \" : \" + str(SSE(network, data, targets)))\n",
    "            \n",
    "        for d in network.getDisjunctions():\n",
    "            g = computeNeuronGrad(network, d, pterb, data, targets)\n",
    "            d.setGrad(g * lr)\n",
    "            \n",
    "        g = computeNeuronGrad(network, network.getConjunction(), pterb, data, targets)\n",
    "        \n",
    "        network.getConjunction().updateWeights(g * lr)\n",
    "        for d in network.getDisjunctions():\n",
    "            d.applyGrad()\n",
    "            \n",
    "    print(\"Trained Loss: \", SSE(network, data, targets, True))\n",
    "    return network\n",
    "\n",
    "def computeNeuronGrad(network, neuron, pterb, data, targets):\n",
    "    gradient = np.zeros(len(neuron.getWeights()))\n",
    "    for k in range(0, len(neuron.getWeights())):\n",
    "        g = np.zeros(len(neuron.getWeights()))\n",
    "        g[k] = -pterb\n",
    "\n",
    "        oldSSE = SSE(network, data, targets)\n",
    "        neuron.updateWeights(g)\n",
    "        newSSE = SSE(network, data, targets)\n",
    "        neuron.updateWeights(-g)\n",
    "                \n",
    "        gradient[k] = (newSSE - oldSSE)/pterb\n",
    "        \n",
    "    return gradient"
   ]
  },
  {
   "cell_type": "markdown",
   "metadata": {},
   "source": [
    "# NOT"
   ]
  },
  {
   "cell_type": "code",
   "execution_count": 7,
   "metadata": {
    "collapsed": false
   },
   "outputs": [
    {
     "name": "stdout",
     "output_type": "stream",
     "text": [
      "Disjunctions -> \n",
      "Conjunction -> [ 0.08384683  0.95554502]\n",
      "\n",
      "Initial Loss:  0.4354419721\n",
      "Iteration -> 1000 : 0.00253492636954\n",
      "Iteration -> 2000 : 0.00126068258724\n",
      "Iteration -> 3000 : 0.000838586930959\n",
      "Iteration -> 4000 : 0.000628157334929\n",
      "Iteration -> 5000 : 0.000502121398909\n",
      "Iteration -> 6000 : 0.000418197256062\n",
      "Iteration -> 7000 : 0.00035830321831\n",
      "Iteration -> 8000 : 0.000313412325618\n",
      "Iteration -> 9000 : 0.000278515420617\n",
      "Trained Loss:  0.000250609755358\n"
     ]
    },
    {
     "data": {
      "text/plain": [
       "Disjunctions -> \n",
       "Conjunction -> [ 0.          4.14568644]"
      ]
     },
     "execution_count": 7,
     "metadata": {},
     "output_type": "execute_result"
    }
   ],
   "source": [
    "dataNOT = np.array([[1.0], [0.0]])\n",
    "targetsNOT = np.array([0.0, 1.0])\n",
    "trainCNFNetwork(dataNOT, targetsNOT, 1, 0)"
   ]
  },
  {
   "cell_type": "markdown",
   "metadata": {},
   "source": [
    "# AND\n",
    "For this we dont neeed any disjunctions"
   ]
  },
  {
   "cell_type": "code",
   "execution_count": null,
   "metadata": {
    "collapsed": true
   },
   "outputs": [],
   "source": []
  },
  {
   "cell_type": "code",
   "execution_count": 8,
   "metadata": {
    "collapsed": false,
    "scrolled": true
   },
   "outputs": [
    {
     "name": "stdout",
     "output_type": "stream",
     "text": [
      "Disjunctions -> \n",
      "Conjunction -> [ 0.09729661  0.40437016  0.59076866  0.74971913]\n",
      "\n",
      "Initial Loss:  1.02939324302\n",
      "Iteration -> 1000 : 0.00513952254646\n",
      "Iteration -> 2000 : 0.00254075061141\n",
      "Iteration -> 3000 : 0.00168631145204\n",
      "Iteration -> 4000 : 0.00126166488227\n",
      "Iteration -> 5000 : 0.00100777184534\n",
      "Iteration -> 6000 : 0.000838904869129\n",
      "Iteration -> 7000 : 0.00071848780167\n",
      "Iteration -> 8000 : 0.000628289567814\n",
      "Iteration -> 9000 : 0.000558205313526\n",
      "Trained Loss:  0.000502183092491\n"
     ]
    },
    {
     "data": {
      "text/plain": [
       "Disjunctions -> \n",
       "Conjunction -> [ 4.14414572  0.          4.14517597  0.        ]"
      ]
     },
     "execution_count": 8,
     "metadata": {},
     "output_type": "execute_result"
    }
   ],
   "source": [
    "dataAND = np.array([[0.0, 0.0], [0.0, 1.0], [1.0, 0.0], [1.0, 1.0]])\n",
    "targetsAND = np.array([0.0, 0.0, 0.0, 1.0])\n",
    "trainCNFNetwork(dataAND, targetsAND, 2, 0)"
   ]
  },
  {
   "cell_type": "markdown",
   "metadata": {
    "collapsed": true
   },
   "source": [
    "# OR"
   ]
  },
  {
   "cell_type": "code",
   "execution_count": 9,
   "metadata": {
    "collapsed": false
   },
   "outputs": [
    {
     "name": "stdout",
     "output_type": "stream",
     "text": [
      "Disjunctions -> [ 0.03597072  0.54622006  0.28498513  0.46150847], \n",
      "Conjunction -> [ 0.91897467]\n",
      "\n",
      "Initial Loss:  0.859634250643\n",
      "Iteration -> 1000 : 0.0147264514446\n",
      "Iteration -> 2000 : 0.00665424999811\n",
      "Iteration -> 3000 : 0.00422199561736\n",
      "Iteration -> 4000 : 0.00306961003498\n",
      "Iteration -> 5000 : 0.00240224827008\n",
      "Iteration -> 6000 : 0.00196868011984\n",
      "Iteration -> 7000 : 0.00166512071001\n",
      "Iteration -> 8000 : 0.0014410967145\n",
      "Iteration -> 9000 : 0.0012691786224\n",
      "Trained Loss:  0.00113320461181\n"
     ]
    },
    {
     "data": {
      "text/plain": [
       "Disjunctions -> [ 5.33022     0.          5.33026365  0.        ], \n",
       "Conjunction -> [ 3.85379597]"
      ]
     },
     "execution_count": 9,
     "metadata": {},
     "output_type": "execute_result"
    }
   ],
   "source": [
    "dataOR = np.array([[0.0, 0.0], [0.0, 1.0], [1.0, 0.0], [1.0, 1.0]])\n",
    "targetsOR = np.array([0.0, 1.0, 1.0, 1.0])\n",
    "trainCNFNetwork(dataOR, targetsOR, 2, 1)"
   ]
  },
  {
   "cell_type": "markdown",
   "metadata": {},
   "source": [
    "# NAND"
   ]
  },
  {
   "cell_type": "code",
   "execution_count": 10,
   "metadata": {
    "collapsed": false
   },
   "outputs": [
    {
     "name": "stdout",
     "output_type": "stream",
     "text": [
      "Disjunctions -> [ 0.2670529   0.71459223  0.52982119  0.41614743], \n",
      "Conjunction -> [ 0.24131879]\n",
      "\n",
      "Initial Loss:  0.736507950989\n",
      "Iteration -> 1000 : 0.0145598993122\n",
      "Iteration -> 2000 : 0.00661740881009\n",
      "Iteration -> 3000 : 0.00420662032181\n",
      "Iteration -> 4000 : 0.00306130179544\n",
      "Iteration -> 5000 : 0.00239708104691\n",
      "Iteration -> 6000 : 0.00196516924452\n",
      "Iteration -> 7000 : 0.00166258581079\n",
      "Iteration -> 8000 : 0.00143918357024\n",
      "Iteration -> 9000 : 0.00126768519266\n",
      "Trained Loss:  0.00113200746639\n"
     ]
    },
    {
     "data": {
      "text/plain": [
       "Disjunctions -> [ 0.          5.33094093  0.          5.33087605], \n",
       "Conjunction -> [ 3.85433414]"
      ]
     },
     "execution_count": 10,
     "metadata": {},
     "output_type": "execute_result"
    }
   ],
   "source": [
    "dataNAND = np.array([[0.0, 0.0], [0.0, 1.0], [1.0, 0.0], [1.0, 1.0]])\n",
    "targetsNAND = np.array([1.0, 1.0, 1.0, 0.0])\n",
    "trainCNFNetwork(dataNAND, targetsNAND, 2, 1)"
   ]
  },
  {
   "cell_type": "markdown",
   "metadata": {},
   "source": [
    "# NOR"
   ]
  },
  {
   "cell_type": "code",
   "execution_count": 11,
   "metadata": {
    "collapsed": false
   },
   "outputs": [
    {
     "name": "stdout",
     "output_type": "stream",
     "text": [
      "Disjunctions -> [ 0.6713813   0.45593178  0.11943221  0.55086449], [ 0.04325333  0.15126712  0.38242037  0.26897606], \n",
      "Conjunction -> [ 0.04322681  0.54394268]\n",
      "\n",
      "Initial Loss:  0.820470053067\n",
      "Iteration -> 1000 : 0.0241405118157\n",
      "Iteration -> 2000 : 0.00861527176654\n",
      "Iteration -> 3000 : 0.00529972730603\n",
      "Iteration -> 4000 : 0.00382827656174\n",
      "Iteration -> 5000 : 0.00299095435523\n",
      "Iteration -> 6000 : 0.00245027690704\n",
      "Iteration -> 7000 : 0.00207263608272\n",
      "Iteration -> 8000 : 0.00179421311504\n",
      "Iteration -> 9000 : 0.00158062496467\n",
      "Trained Loss:  0.00141170429587\n"
     ]
    },
    {
     "data": {
      "text/plain": [
       "Disjunctions -> [ 0.          0.          0.          5.66369549], [ 0.          5.70631119  0.          0.        ], \n",
       "Conjunction -> [ 3.94126039  3.98088195]"
      ]
     },
     "execution_count": 11,
     "metadata": {},
     "output_type": "execute_result"
    }
   ],
   "source": [
    "dataNAND = np.array([[0.0, 0.0], [0.0, 1.0], [1.0, 0.0], [1.0, 1.0]])\n",
    "targetsNAND = np.array([1.0, 0.0, 0.0, 0.0])\n",
    "trainCNFNetwork(dataNAND, targetsNAND, 2, 2)"
   ]
  },
  {
   "cell_type": "markdown",
   "metadata": {},
   "source": [
    "# XOR"
   ]
  },
  {
   "cell_type": "code",
   "execution_count": 12,
   "metadata": {
    "collapsed": false
   },
   "outputs": [
    {
     "name": "stdout",
     "output_type": "stream",
     "text": [
      "Disjunctions -> [ 0.23628204  0.98037393  0.77622604  0.38387031], [ 0.00459108  0.37895811  0.05353995  0.40983986], \n",
      "Conjunction -> [ 0.21337505  0.6377396 ]\n",
      "\n",
      "Initial Loss:  1.03906513532\n",
      "Iteration -> 1000 : 0.716665358151\n",
      "Iteration -> 2000 : 0.686879187644\n",
      "Iteration -> 3000 : 0.679023421963\n",
      "Iteration -> 4000 : 0.675493209024\n",
      "Iteration -> 5000 : 0.673505165411\n",
      "Iteration -> 6000 : 0.672235507916\n",
      "Iteration -> 7000 : 0.671356701026\n",
      "Iteration -> 8000 : 0.670713415296\n",
      "Iteration -> 9000 : 0.670222729861\n",
      "Trained Loss:  0.66983643155\n"
     ]
    },
    {
     "data": {
      "text/plain": [
       "Disjunctions -> [ 0.30954545  0.93013653  0.75667035  0.42645202], [ 0.          7.05349     0.          7.05349383], \n",
       "Conjunction -> [ 0.          3.24415127]"
      ]
     },
     "execution_count": 12,
     "metadata": {},
     "output_type": "execute_result"
    }
   ],
   "source": [
    "dataNAND = np.array([[0.0, 0.0], [0.0, 1.0], [1.0, 0.0], [1.0, 1.0]])\n",
    "targetsNAND = np.array([0.0, 1.0, 1.0, 0.0])\n",
    "trainCNFNetwork(dataNAND, targetsNAND, 2, 2)"
   ]
  },
  {
   "cell_type": "markdown",
   "metadata": {
    "collapsed": true
   },
   "source": [
    "# IMPLIES"
   ]
  },
  {
   "cell_type": "code",
   "execution_count": 13,
   "metadata": {
    "collapsed": false
   },
   "outputs": [
    {
     "name": "stdout",
     "output_type": "stream",
     "text": [
      "Disjunctions -> [ 0.66001029  0.21698503  0.21025963  0.27813663], \n",
      "Conjunction -> [ 0.64862298]\n",
      "\n",
      "Initial Loss:  0.852875890091\n",
      "Iteration -> 1000 : 0.0148887839343\n",
      "Iteration -> 2000 : 0.00668978603467\n",
      "Iteration -> 3000 : 0.00423677449114\n",
      "Iteration -> 4000 : 0.00307758211592\n",
      "Iteration -> 5000 : 0.00240720127841\n",
      "Iteration -> 6000 : 0.00197204312843\n",
      "Iteration -> 7000 : 0.00166754765698\n",
      "Iteration -> 8000 : 0.00144292771334\n",
      "Iteration -> 9000 : 0.0012706075217\n",
      "Trained Loss:  0.00113434976913\n"
     ]
    },
    {
     "data": {
      "text/plain": [
       "Disjunctions -> [ 0.          5.32961667  5.32959321  0.        ], \n",
       "Conjunction -> [ 3.85328125]"
      ]
     },
     "execution_count": 13,
     "metadata": {},
     "output_type": "execute_result"
    }
   ],
   "source": [
    "dataIMPLYS = np.array([[0.0, 0.0], [0.0, 1.0], [1.0, 0.0], [1.0, 1.0]])\n",
    "targetsIMPLYS = np.array([1.0, 1.0, 0.0, 1.0])\n",
    "trainCNFNetwork(dataIMPLYS, targetsIMPLYS, 2, 1)"
   ]
  },
  {
   "cell_type": "markdown",
   "metadata": {
    "collapsed": true
   },
   "source": [
    "# Complicated Formula"
   ]
  },
  {
   "cell_type": "markdown",
   "metadata": {},
   "source": [
    "## (a AND b) OR (NOT c)\n",
    "CNF: (a OR (NOT c)) AND (b OR (NOT c))"
   ]
  },
  {
   "cell_type": "code",
   "execution_count": 14,
   "metadata": {
    "collapsed": false
   },
   "outputs": [
    {
     "name": "stdout",
     "output_type": "stream",
     "text": [
      "Disjunctions -> [ 0.6813627   0.2349668   0.38974434  0.10181127  0.58089235  0.11291412], [ 0.05060651  0.85777213  0.33928586  0.26204975  0.71943256  0.19869621], \n",
      "Conjunction -> [ 0.91408946  0.76246137]\n",
      "\n",
      "Initial Loss:  2.48640800614\n",
      "Iteration -> 1000 : 0.205994548385\n",
      "Iteration -> 2000 : 0.162132142219\n",
      "Iteration -> 3000 : 0.140825971465\n",
      "Iteration -> 4000 : 0.127388962218\n",
      "Iteration -> 5000 : 0.117833087967\n",
      "Iteration -> 6000 : 0.110544903219\n",
      "Iteration -> 7000 : 0.104724836785\n",
      "Iteration -> 8000 : 0.0999233713425\n",
      "Iteration -> 9000 : 0.0958648665695\n",
      "Iteration -> 10000 : 0.0923691898483\n",
      "Iteration -> 11000 : 0.0893127360148\n",
      "Iteration -> 12000 : 0.0866073464618\n"
     ]
    },
    {
     "ename": "KeyboardInterrupt",
     "evalue": "",
     "output_type": "error",
     "traceback": [
      "\u001b[0;31m---------------------------------------------------------------------------\u001b[0m",
      "\u001b[0;31mKeyboardInterrupt\u001b[0m                         Traceback (most recent call last)",
      "\u001b[0;32m<ipython-input-14-42fb5b1caa11>\u001b[0m in \u001b[0;36m<module>\u001b[0;34m()\u001b[0m\n\u001b[1;32m      1\u001b[0m \u001b[0mdataInteresting1\u001b[0m \u001b[1;33m=\u001b[0m \u001b[0mnp\u001b[0m\u001b[1;33m.\u001b[0m\u001b[0marray\u001b[0m\u001b[1;33m(\u001b[0m\u001b[1;33m[\u001b[0m\u001b[1;33m[\u001b[0m\u001b[1;36m0.0\u001b[0m\u001b[1;33m,\u001b[0m \u001b[1;36m0.0\u001b[0m\u001b[1;33m,\u001b[0m \u001b[1;36m0.0\u001b[0m\u001b[1;33m]\u001b[0m\u001b[1;33m,\u001b[0m \u001b[1;33m[\u001b[0m\u001b[1;36m0.0\u001b[0m\u001b[1;33m,\u001b[0m \u001b[1;36m0.0\u001b[0m\u001b[1;33m,\u001b[0m \u001b[1;36m1.0\u001b[0m\u001b[1;33m]\u001b[0m\u001b[1;33m,\u001b[0m \u001b[1;33m[\u001b[0m\u001b[1;36m0.0\u001b[0m\u001b[1;33m,\u001b[0m \u001b[1;36m1.0\u001b[0m\u001b[1;33m,\u001b[0m \u001b[1;36m0.0\u001b[0m\u001b[1;33m]\u001b[0m\u001b[1;33m,\u001b[0m \u001b[1;33m[\u001b[0m\u001b[1;36m0.0\u001b[0m\u001b[1;33m,\u001b[0m \u001b[1;36m1.0\u001b[0m\u001b[1;33m,\u001b[0m \u001b[1;36m1.0\u001b[0m\u001b[1;33m]\u001b[0m\u001b[1;33m,\u001b[0m \u001b[1;33m[\u001b[0m\u001b[1;36m1.0\u001b[0m\u001b[1;33m,\u001b[0m \u001b[1;36m0.0\u001b[0m\u001b[1;33m,\u001b[0m \u001b[1;36m0.0\u001b[0m\u001b[1;33m]\u001b[0m\u001b[1;33m,\u001b[0m \u001b[1;33m[\u001b[0m\u001b[1;36m1.0\u001b[0m\u001b[1;33m,\u001b[0m \u001b[1;36m0.0\u001b[0m\u001b[1;33m,\u001b[0m \u001b[1;36m1.0\u001b[0m\u001b[1;33m]\u001b[0m\u001b[1;33m,\u001b[0m \u001b[1;33m[\u001b[0m\u001b[1;36m1.0\u001b[0m\u001b[1;33m,\u001b[0m \u001b[1;36m1.0\u001b[0m\u001b[1;33m,\u001b[0m \u001b[1;36m0.0\u001b[0m\u001b[1;33m]\u001b[0m\u001b[1;33m,\u001b[0m \u001b[1;33m[\u001b[0m\u001b[1;36m1.0\u001b[0m\u001b[1;33m,\u001b[0m \u001b[1;36m1.0\u001b[0m\u001b[1;33m,\u001b[0m \u001b[1;36m1.0\u001b[0m\u001b[1;33m]\u001b[0m\u001b[1;33m]\u001b[0m\u001b[1;33m)\u001b[0m\u001b[1;33m\u001b[0m\u001b[0m\n\u001b[1;32m      2\u001b[0m \u001b[0mtargetsInteresting1\u001b[0m \u001b[1;33m=\u001b[0m \u001b[0mnp\u001b[0m\u001b[1;33m.\u001b[0m\u001b[0marray\u001b[0m\u001b[1;33m(\u001b[0m\u001b[1;33m[\u001b[0m\u001b[1;36m1.0\u001b[0m\u001b[1;33m,\u001b[0m \u001b[1;36m0.0\u001b[0m\u001b[1;33m,\u001b[0m \u001b[1;36m1.0\u001b[0m\u001b[1;33m,\u001b[0m \u001b[1;36m0.0\u001b[0m\u001b[1;33m,\u001b[0m \u001b[1;36m1.0\u001b[0m\u001b[1;33m,\u001b[0m \u001b[1;36m0.0\u001b[0m\u001b[1;33m,\u001b[0m \u001b[1;36m1.0\u001b[0m\u001b[1;33m,\u001b[0m \u001b[1;36m1.0\u001b[0m\u001b[1;33m]\u001b[0m\u001b[1;33m)\u001b[0m\u001b[1;33m\u001b[0m\u001b[0m\n\u001b[0;32m----> 3\u001b[0;31m \u001b[0mtrainCNFNetwork\u001b[0m\u001b[1;33m(\u001b[0m\u001b[0mdataInteresting1\u001b[0m\u001b[1;33m,\u001b[0m \u001b[0mtargetsInteresting1\u001b[0m\u001b[1;33m,\u001b[0m \u001b[1;36m3\u001b[0m\u001b[1;33m,\u001b[0m \u001b[1;36m2\u001b[0m\u001b[1;33m,\u001b[0m \u001b[1;36m30000\u001b[0m\u001b[1;33m)\u001b[0m\u001b[1;33m\u001b[0m\u001b[0m\n\u001b[0m",
      "\u001b[0;32m<ipython-input-6-b8acb5ec3f46>\u001b[0m in \u001b[0;36mtrainCNFNetwork\u001b[0;34m(data, targets, inputNodes, numC, it, lr)\u001b[0m\n\u001b[1;32m     11\u001b[0m \u001b[1;33m\u001b[0m\u001b[0m\n\u001b[1;32m     12\u001b[0m         \u001b[1;32mfor\u001b[0m \u001b[0md\u001b[0m \u001b[1;32min\u001b[0m \u001b[0mnetwork\u001b[0m\u001b[1;33m.\u001b[0m\u001b[0mgetDisjunctions\u001b[0m\u001b[1;33m(\u001b[0m\u001b[1;33m)\u001b[0m\u001b[1;33m:\u001b[0m\u001b[1;33m\u001b[0m\u001b[0m\n\u001b[0;32m---> 13\u001b[0;31m             \u001b[0mg\u001b[0m \u001b[1;33m=\u001b[0m \u001b[0mcomputeNeuronGrad\u001b[0m\u001b[1;33m(\u001b[0m\u001b[0mnetwork\u001b[0m\u001b[1;33m,\u001b[0m \u001b[0md\u001b[0m\u001b[1;33m,\u001b[0m \u001b[0mpterb\u001b[0m\u001b[1;33m,\u001b[0m \u001b[0mdata\u001b[0m\u001b[1;33m,\u001b[0m \u001b[0mtargets\u001b[0m\u001b[1;33m)\u001b[0m\u001b[1;33m\u001b[0m\u001b[0m\n\u001b[0m\u001b[1;32m     14\u001b[0m             \u001b[0md\u001b[0m\u001b[1;33m.\u001b[0m\u001b[0msetGrad\u001b[0m\u001b[1;33m(\u001b[0m\u001b[0mg\u001b[0m \u001b[1;33m*\u001b[0m \u001b[0mlr\u001b[0m\u001b[1;33m)\u001b[0m\u001b[1;33m\u001b[0m\u001b[0m\n\u001b[1;32m     15\u001b[0m \u001b[1;33m\u001b[0m\u001b[0m\n",
      "\u001b[0;32m<ipython-input-6-b8acb5ec3f46>\u001b[0m in \u001b[0;36mcomputeNeuronGrad\u001b[0;34m(network, neuron, pterb, data, targets)\u001b[0m\n\u001b[1;32m     29\u001b[0m         \u001b[0mg\u001b[0m\u001b[1;33m[\u001b[0m\u001b[0mk\u001b[0m\u001b[1;33m]\u001b[0m \u001b[1;33m=\u001b[0m \u001b[1;33m-\u001b[0m\u001b[0mpterb\u001b[0m\u001b[1;33m\u001b[0m\u001b[0m\n\u001b[1;32m     30\u001b[0m \u001b[1;33m\u001b[0m\u001b[0m\n\u001b[0;32m---> 31\u001b[0;31m         \u001b[0moldSSE\u001b[0m \u001b[1;33m=\u001b[0m \u001b[0mSSE\u001b[0m\u001b[1;33m(\u001b[0m\u001b[0mnetwork\u001b[0m\u001b[1;33m,\u001b[0m \u001b[0mdata\u001b[0m\u001b[1;33m,\u001b[0m \u001b[0mtargets\u001b[0m\u001b[1;33m)\u001b[0m\u001b[1;33m\u001b[0m\u001b[0m\n\u001b[0m\u001b[1;32m     32\u001b[0m         \u001b[0mneuron\u001b[0m\u001b[1;33m.\u001b[0m\u001b[0mupdateWeights\u001b[0m\u001b[1;33m(\u001b[0m\u001b[0mg\u001b[0m\u001b[1;33m)\u001b[0m\u001b[1;33m\u001b[0m\u001b[0m\n\u001b[1;32m     33\u001b[0m         \u001b[0mnewSSE\u001b[0m \u001b[1;33m=\u001b[0m \u001b[0mSSE\u001b[0m\u001b[1;33m(\u001b[0m\u001b[0mnetwork\u001b[0m\u001b[1;33m,\u001b[0m \u001b[0mdata\u001b[0m\u001b[1;33m,\u001b[0m \u001b[0mtargets\u001b[0m\u001b[1;33m)\u001b[0m\u001b[1;33m\u001b[0m\u001b[0m\n",
      "\u001b[0;32m<ipython-input-5-fc694d80190e>\u001b[0m in \u001b[0;36mSSE\u001b[0;34m(network, data, targets, p)\u001b[0m\n\u001b[1;32m      5\u001b[0m \u001b[1;31m#         print(predictions)\u001b[0m\u001b[1;33m\u001b[0m\u001b[1;33m\u001b[0m\u001b[0m\n\u001b[1;32m      6\u001b[0m \u001b[1;33m\u001b[0m\u001b[0m\n\u001b[0;32m----> 7\u001b[0;31m     \u001b[1;32mreturn\u001b[0m \u001b[0mnp\u001b[0m\u001b[1;33m.\u001b[0m\u001b[0msum\u001b[0m\u001b[1;33m(\u001b[0m\u001b[0mnp\u001b[0m\u001b[1;33m.\u001b[0m\u001b[0mpower\u001b[0m\u001b[1;33m(\u001b[0m\u001b[0mnp\u001b[0m\u001b[1;33m.\u001b[0m\u001b[0msubtract\u001b[0m\u001b[1;33m(\u001b[0m\u001b[0mtargets\u001b[0m\u001b[1;33m,\u001b[0m \u001b[0mpredictions\u001b[0m\u001b[1;33m)\u001b[0m\u001b[1;33m,\u001b[0m \u001b[1;36m2.0\u001b[0m\u001b[1;33m)\u001b[0m\u001b[1;33m)\u001b[0m\u001b[1;33m\u001b[0m\u001b[0m\n\u001b[0m\u001b[1;32m      8\u001b[0m \u001b[1;33m\u001b[0m\u001b[0m\n\u001b[1;32m      9\u001b[0m \u001b[1;32mdef\u001b[0m \u001b[0mpredict\u001b[0m\u001b[1;33m(\u001b[0m\u001b[0mnetwork\u001b[0m\u001b[1;33m,\u001b[0m \u001b[0mdata\u001b[0m\u001b[1;33m)\u001b[0m\u001b[1;33m:\u001b[0m\u001b[1;33m\u001b[0m\u001b[0m\n",
      "\u001b[0;32mC:\\Users\\danie\\Anaconda3\\lib\\site-packages\\autograd\\core.py\u001b[0m in \u001b[0;36m__call__\u001b[0;34m(self, *args, **kwargs)\u001b[0m\n\u001b[1;32m     68\u001b[0m \u001b[1;33m\u001b[0m\u001b[0m\n\u001b[1;32m     69\u001b[0m         \u001b[0mresult_value\u001b[0m \u001b[1;33m=\u001b[0m \u001b[0mself\u001b[0m\u001b[1;33m.\u001b[0m\u001b[0mfun\u001b[0m\u001b[1;33m(\u001b[0m\u001b[1;33m*\u001b[0m\u001b[0margvals\u001b[0m\u001b[1;33m,\u001b[0m \u001b[1;33m**\u001b[0m\u001b[0mkwargs\u001b[0m\u001b[1;33m)\u001b[0m\u001b[1;33m\u001b[0m\u001b[0m\n\u001b[0;32m---> 70\u001b[0;31m         \u001b[1;32mif\u001b[0m \u001b[0mprogenitors\u001b[0m\u001b[1;33m:\u001b[0m\u001b[1;33m\u001b[0m\u001b[0m\n\u001b[0m\u001b[1;32m     71\u001b[0m             \u001b[1;32mreturn\u001b[0m \u001b[0mnew_node\u001b[0m\u001b[1;33m(\u001b[0m\u001b[0mresult_value\u001b[0m\u001b[1;33m,\u001b[0m \u001b[1;33m(\u001b[0m\u001b[0mself\u001b[0m\u001b[1;33m,\u001b[0m \u001b[0margs\u001b[0m\u001b[1;33m,\u001b[0m \u001b[0mkwargs\u001b[0m\u001b[1;33m,\u001b[0m \u001b[0mparents\u001b[0m\u001b[1;33m)\u001b[0m\u001b[1;33m,\u001b[0m \u001b[0mprogenitors\u001b[0m\u001b[1;33m)\u001b[0m\u001b[1;33m\u001b[0m\u001b[0m\n\u001b[1;32m     72\u001b[0m         \u001b[1;32melse\u001b[0m\u001b[1;33m:\u001b[0m\u001b[1;33m\u001b[0m\u001b[0m\n",
      "\u001b[0;31mKeyboardInterrupt\u001b[0m: "
     ]
    }
   ],
   "source": [
    "dataInteresting1 = np.array([[0.0, 0.0, 0.0], [0.0, 0.0, 1.0], [0.0, 1.0, 0.0], [0.0, 1.0, 1.0], [1.0, 0.0, 0.0], [1.0, 0.0, 1.0], [1.0, 1.0, 0.0], [1.0, 1.0, 1.0]])\n",
    "targetsInteresting1 = np.array([1.0, 0.0, 1.0, 0.0, 1.0, 0.0, 1.0, 1.0])\n",
    "trainCNFNetwork(dataInteresting1, targetsInteresting1, 3, 2)"
   ]
  },
  {
   "cell_type": "markdown",
   "metadata": {},
   "source": [
    "## NOT ( a AND b AND c)\n",
    "CNF: (NOT a) OR (NOT b) OR (NOT c)"
   ]
  },
  {
   "cell_type": "code",
   "execution_count": null,
   "metadata": {
    "collapsed": false
   },
   "outputs": [],
   "source": [
    "dataInteresting2 = np.array([[0.0, 0.0, 0.0], [0.0, 0.0, 1.0], [0.0, 1.0, 0.0], [0.0, 1.0, 1.0], [1.0, 0.0, 0.0], [1.0, 0.0, 1.0], [1.0, 1.0, 0.0], [1.0, 1.0, 1.0]])\n",
    "targetsInteresting2 = np.array([1.0, 1.0, 1.0, 1.0, 1.0, 1.0, 1.0, 0.0])\n",
    "trainCNFNetwork(dataInteresting2, targetsInteresting2, 3, 1)"
   ]
  },
  {
   "cell_type": "markdown",
   "metadata": {},
   "source": [
    "## a AND b AND c"
   ]
  },
  {
   "cell_type": "code",
   "execution_count": null,
   "metadata": {
    "collapsed": false
   },
   "outputs": [],
   "source": [
    "dataInteresting3 = np.array([[0.0, 0.0, 0.0], [0.0, 0.0, 1.0], [0.0, 1.0, 0.0], [0.0, 1.0, 1.0], [1.0, 0.0, 0.0], [1.0, 0.0, 1.0], [1.0, 1.0, 0.0], [1.0, 1.0, 1.0]])\n",
    "targetsInteresting3 = np.array([0.0, 0.0, 0.0, 0.0, 0.0, 0.0, 0.0, 1.0])\n",
    "trainCNFNetwork(dataInteresting3, targetsInteresting3, 3, 3)"
   ]
  },
  {
   "cell_type": "markdown",
   "metadata": {
    "collapsed": true
   },
   "source": [
    "# (a XOR b) AND c\n",
    "CNF: ((NOT a) OR (NOT b)) AND (a OR b) AND c"
   ]
  },
  {
   "cell_type": "code",
   "execution_count": 16,
   "metadata": {
    "collapsed": false
   },
   "outputs": [
    {
     "name": "stdout",
     "output_type": "stream",
     "text": [
      "Disjunctions -> [ 0.98084238  0.96278776  0.38397388  0.92955681  0.57566421  0.77579778], [ 0.13866104  0.72219147  0.22187293  0.64347105  0.6125109   0.2770585 ], [ 0.48088155  0.46536164  0.72479089  0.71587101  0.09710715  0.92288741], \n",
      "Conjunction -> [ 0.34922507  0.14265497  0.67395269]\n",
      "\n",
      "Initial Loss:  2.09120005418\n",
      "Iteration -> 1000 : 0.232241187669\n",
      "Iteration -> 2000 : 0.0292496595654\n",
      "Iteration -> 3000 : 0.0145196644042\n",
      "Iteration -> 4000 : 0.00951246378153\n",
      "Iteration -> 5000 : 0.00702631019388\n",
      "Iteration -> 6000 : 0.00554994713433\n",
      "Iteration -> 7000 : 0.00457570344681\n",
      "Iteration -> 8000 : 0.00388632729602\n",
      "Iteration -> 9000 : 0.00337367697701\n",
      "Trained Loss:  0.00297800261913\n"
     ]
    },
    {
     "data": {
      "text/plain": [
       "Disjunctions -> [ 0.          5.66913734  0.          5.66777796  0.          0.27527122], [ 0.          0.09039051  0.          0.09040301  6.60066505  0.        ], [ 5.80701829  0.          5.80574025  0.          0.          0.        ], \n",
       "Conjunction -> [ 3.78002502  5.36151565  3.82803829]"
      ]
     },
     "execution_count": 16,
     "metadata": {},
     "output_type": "execute_result"
    }
   ],
   "source": [
    "dataInteresting4 = np.array([[0.0, 0.0, 0.0], [0.0, 0.0, 1.0], [0.0, 1.0, 0.0], [0.0, 1.0, 1.0], [1.0, 0.0, 0.0], [1.0, 0.0, 1.0], [1.0, 1.0, 0.0], [1.0, 1.0, 1.0]])\n",
    "targetsInteresting4 = np.array([0.0, 0.0, 0.0, 1.0, 0.0, 1.0, 0.0, 0.0])\n",
    "trainCNFNetwork(dataInteresting4, targetsInteresting4, 3, 3)"
   ]
  },
  {
   "cell_type": "code",
   "execution_count": null,
   "metadata": {
    "collapsed": true
   },
   "outputs": [],
   "source": []
  }
 ],
 "metadata": {
  "kernelspec": {
   "display_name": "Python 3",
   "language": "python",
   "name": "python3"
  },
  "language_info": {
   "codemirror_mode": {
    "name": "ipython",
    "version": 3
   },
   "file_extension": ".py",
   "mimetype": "text/x-python",
   "name": "python",
   "nbconvert_exporter": "python",
   "pygments_lexer": "ipython3",
   "version": "3.6.0"
  }
 },
 "nbformat": 4,
 "nbformat_minor": 2
}

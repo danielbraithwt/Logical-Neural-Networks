{
 "cells": [
  {
   "cell_type": "code",
   "execution_count": 21,
   "metadata": {
    "collapsed": false
   },
   "outputs": [
    {
     "name": "stdout",
     "output_type": "stream",
     "text": [
      "Initial Loss:  0.5\n",
      "Trained Loss:  1.54074395551e-29\n",
      "[ -1.00000000e+00  -2.30022811e-46]\n"
     ]
    }
   ],
   "source": [
    "import autograd.numpy as np\n",
    "from autograd import grad\n",
    "\n",
    "def MSE(weights):\n",
    "    expected = NANDPredict(weights)\n",
    "    return (1.0/len(expected)) * np.sum(np.power(np.subtract(expected, targets), 2))\n",
    "\n",
    "def NANDPredict(weights):\n",
    "    return -1.0 * np.array(list(map(lambda x: np.min(computeWeightedInputs(weights, x)), data))) \n",
    "\n",
    "def computeWeightedInputs(weights, inputs):\n",
    "    return np.maximum(weights, inputs)\n",
    "\n",
    "# NAND Gate Data\n",
    "#data = np.array([[-1.0,-1.0],[1.0,-1.0],[-1.0,1.0],[1.0,1.0]])\n",
    "# targets = np.array([1.0,1.0,1.0,-1.0])\n",
    "\n",
    "# NOT Gate Data\n",
    "data = np.array([[-1.0, -1.0], [1.0, -1.0]])\n",
    "targets = np.array([1.0, 0.0])\n",
    "\n",
    "# AND Gate Data\n",
    "# data = np.array([[-1.0,-1.0],[1.0,-1.0],[-1.0,1.0],[1.0,1.0]])\n",
    "# targets = np.array([-1.0,-1.0,-1.0,1.0])\n",
    "\n",
    "weights = np.array([0.0, 0.0])\n",
    "gradient = grad(MSE)\n",
    "\n",
    "print(\"Initial Loss: \", MSE(weights))\n",
    "for i in range(1, 10000):\n",
    "#     print(gradient(weights))\n",
    "    weights -= gradient(weights) * 0.01\n",
    "    \n",
    "print(\"Trained Loss: \", MSE(weights))\n",
    "print(weights)\n"
   ]
  },
  {
   "cell_type": "code",
   "execution_count": null,
   "metadata": {
    "collapsed": true
   },
   "outputs": [],
   "source": []
  },
  {
   "cell_type": "code",
   "execution_count": null,
   "metadata": {
    "collapsed": true
   },
   "outputs": [],
   "source": []
  }
 ],
 "metadata": {
  "kernelspec": {
   "display_name": "Python 3",
   "language": "python",
   "name": "python3"
  },
  "language_info": {
   "codemirror_mode": {
    "name": "ipython",
    "version": 3
   },
   "file_extension": ".py",
   "mimetype": "text/x-python",
   "name": "python",
   "nbconvert_exporter": "python",
   "pygments_lexer": "ipython3",
   "version": "3.6.0"
  }
 },
 "nbformat": 4,
 "nbformat_minor": 2
}

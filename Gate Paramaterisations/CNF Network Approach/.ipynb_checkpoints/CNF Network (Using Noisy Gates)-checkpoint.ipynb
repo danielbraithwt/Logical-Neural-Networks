{
 "cells": [
  {
   "cell_type": "code",
   "execution_count": 109,
   "metadata": {
    "collapsed": true
   },
   "outputs": [],
   "source": [
    "import autograd.numpy as np\n",
    "from autograd import grad"
   ]
  },
  {
   "cell_type": "code",
   "execution_count": 196,
   "metadata": {},
   "outputs": [],
   "source": [
    "class ORNeuron():\n",
    "    def __init__(self, n):\n",
    "        self.n = n\n",
    "        self.weights = np.zeros(n)\n",
    "        \n",
    "    def getWeights(self):\n",
    "        return self.weights    \n",
    "    \n",
    "    def present(self, inputs):\n",
    "        z = np.sum(np.multiply(inputs, self.weights))\n",
    "        return 1 - np.power(np.e, -z)\n",
    "    \n",
    "    def updateWeights(self, g):\n",
    "        self.weights -= g\n",
    "        \n",
    "        for i in range(0, len(self.weights)):\n",
    "            if self.weights[i] < 0:\n",
    "                self.weights[i] = 0\n",
    "        \n",
    "    def setGrad(self, g):\n",
    "        self.grad = g\n",
    "        \n",
    "    def applyGrad(self):\n",
    "        self.updateWeights(self.grad)\n",
    "        self.grad = None\n",
    "        \n",
    "    def __repr__(self):\n",
    "        return str(self.weights)"
   ]
  },
  {
   "cell_type": "code",
   "execution_count": 197,
   "metadata": {
    "collapsed": true
   },
   "outputs": [],
   "source": [
    "class ANDNeuron():\n",
    "    def __init__(self, n):\n",
    "        self.weights = np.zeros(n)\n",
    "#         self.weights = [1, 0, 1, 0, 1]\n",
    "        \n",
    "    def getWeights(self):\n",
    "        return self.weights\n",
    "        \n",
    "    def present(self, inputs):\n",
    "        i = 1.0 - inputs\n",
    "        i[0] = 1.0\n",
    "        \n",
    "        z = np.sum(np.multiply(i, self.weights))\n",
    "        return np.power(np.e, -z)\n",
    "    \n",
    "    def updateWeights(self, g):\n",
    "        self.weights -= g\n",
    "        \n",
    "        for i in range(0, len(self.weights)):\n",
    "            if self.weights[i] < 0:\n",
    "                self.weights[i] = 0\n",
    "        \n",
    "    def setGrad(self, g):\n",
    "        self.grad = g\n",
    "        \n",
    "    def applyGrad(self):\n",
    "        self.updateWeights(self.grad)\n",
    "        self.grad = None\n",
    "        \n",
    "    def __repr__(self):\n",
    "        return str(self.weights)"
   ]
  },
  {
   "cell_type": "code",
   "execution_count": 198,
   "metadata": {},
   "outputs": [],
   "source": [
    "class CNFNetwork():\n",
    "    def __init__(self, n, c):\n",
    "        self.n = n\n",
    "        self.c = c\n",
    "        \n",
    "        d = []\n",
    "        for i in range(0, c):\n",
    "            d.append(ORNeuron(n*2 + 1))\n",
    "        \n",
    "        self.disjunctions = np.array(d)\n",
    "        \n",
    "        if not c == 0:\n",
    "            self.conjunction = ANDNeuron(c + 1)\n",
    "        else:\n",
    "            self.conjunction = ANDNeuron(n*2 + 1)\n",
    "        \n",
    "    def getDisjunctions(self):\n",
    "        return self.disjunctions\n",
    "    \n",
    "    def getConjunction(self):\n",
    "        return self.conjunction\n",
    "    \n",
    "    def fowardprop(self, inputs):\n",
    "        actualIn = self.__convertInputs__(inputs)\n",
    "        \n",
    "        if not self.c == 0:\n",
    "            dout = [1]\n",
    "            for d in self.disjunctions:\n",
    "                dout.append(d.present(actualIn))\n",
    "            \n",
    "            actualIn = dout\n",
    "            \n",
    "        return self.conjunction.present(np.array(actualIn))\n",
    "    \n",
    "    def __convertInputs__(self, inputs):\n",
    "        actual = [1]\n",
    "        \n",
    "        for i in inputs:\n",
    "            actual.append(i)\n",
    "            actual.append(1-i)\n",
    "        \n",
    "        return np.array(actual)\n",
    "    \n",
    "    def __repr__(self):\n",
    "        s = \"Disjunctions -> \"\n",
    "        for d in self.disjunctions:\n",
    "            s += (str(d) + \", \")\n",
    "            \n",
    "        s += (\"\\nConjunction -> \" + str(self.conjunction) + \"\\n\")\n",
    "            \n",
    "        return s"
   ]
  },
  {
   "cell_type": "code",
   "execution_count": 199,
   "metadata": {
    "collapsed": true
   },
   "outputs": [],
   "source": [
    "def SSE(network, data, targets):\n",
    "    predictions = predict(network, data)\n",
    "    return np.sum(np.power(np.subtract(targets, predictions), 2.0))\n",
    "    \n",
    "def predict(network, data):\n",
    "    t = np.array([network.fowardprop(d) for d in data])\n",
    "    return t\n",
    "    "
   ]
  },
  {
   "cell_type": "code",
   "execution_count": 200,
   "metadata": {
    "collapsed": true
   },
   "outputs": [],
   "source": [
    "def trainCNFNetwork(data, targets, inputNodes, numC):\n",
    "    network = CNFNetwork(inputNodes, numC)\n",
    "    print(network)\n",
    "    print(\"Initial Loss: \", SSE(network, data, targets))\n",
    "    \n",
    "    pterb = 0.0001\n",
    "    \n",
    "    for i in range(1, 10000):\n",
    "        if i%1000 == 0:\n",
    "            print(\"Iteration -> \" + str(i) + \" : \" + str(SSE(network, data, targets)))\n",
    "            \n",
    "        for d in network.getDisjunctions():\n",
    "            g = computeNeuronGrad(network, d, pterb, data, targets)\n",
    "            d.setGrad(g * 0.1)\n",
    "            \n",
    "        g = computeNeuronGrad(network, network.getConjunction(), pterb, data, targets)\n",
    "        \n",
    "        network.getConjunction().updateWeights(g * 0.1)\n",
    "        for d in network.getDisjunctions():\n",
    "            d.applyGrad()\n",
    "            \n",
    "    print(\"Trained Loss: \", SSE(network, data, targets))\n",
    "    return network\n",
    "\n",
    "def computeNeuronGrad(network, neuron, pterb, data, targets):\n",
    "    gradient = np.zeros(len(neuron.getWeights()))\n",
    "    for k in range(0, len(neuron.getWeights())):\n",
    "        g = np.zeros(len(neuron.getWeights()))\n",
    "        g[k] = -pterb\n",
    "\n",
    "        oldSSE = SSE(network, data, targets)\n",
    "        neuron.updateWeights(g)\n",
    "        newSSE = SSE(network, data, targets)\n",
    "        neuron.updateWeights(-g)\n",
    "                \n",
    "        gradient[k] = (newSSE - oldSSE)/pterb\n",
    "        \n",
    "    return gradient"
   ]
  },
  {
   "cell_type": "markdown",
   "metadata": {},
   "source": [
    "# AND\n",
    "For this we dont neeed any disjunctions"
   ]
  },
  {
   "cell_type": "code",
   "execution_count": 201,
   "metadata": {
    "scrolled": true
   },
   "outputs": [
    {
     "name": "stdout",
     "output_type": "stream",
     "text": [
      "Disjunctions -> \n",
      "Conjunction -> [ 0.  0.  0.  0.  0.]\n",
      "\n",
      "Initial Loss:  3.0\n",
      "Iteration -> 1000 : 0.0136735618237\n",
      "Iteration -> 2000 : 0.00657736570224\n",
      "Iteration -> 3000 : 0.00432125799731\n",
      "Iteration -> 4000 : 0.00321566038228\n",
      "Iteration -> 5000 : 0.00255988614086\n",
      "Iteration -> 6000 : 0.00212598902984\n",
      "Iteration -> 7000 : 0.0018177218748\n",
      "Iteration -> 8000 : 0.00158745213485\n",
      "Iteration -> 9000 : 0.00140891686893\n",
      "Trained Loss:  0.00126645027547\n"
     ]
    },
    {
     "data": {
      "text/plain": [
       "Disjunctions -> \n",
       "Conjunction -> [  1.21886071e-03   3.68186800e+00   0.00000000e+00   3.68186800e+00\n",
       "   0.00000000e+00]"
      ]
     },
     "execution_count": 201,
     "metadata": {},
     "output_type": "execute_result"
    }
   ],
   "source": [
    "dataAND = np.array([[0.0, 0.0], [0.0, 1.0], [1.0, 0.0], [1.0, 1.0]])\n",
    "targetsAND = np.array([0.0, 0.0, 0.0, 1.0])\n",
    "trainCNFNetwork(dataAND, targetsAND, 2, 0)"
   ]
  },
  {
   "cell_type": "code",
   "execution_count": null,
   "metadata": {
    "collapsed": true
   },
   "outputs": [],
   "source": []
  },
  {
   "cell_type": "code",
   "execution_count": null,
   "metadata": {
    "collapsed": true
   },
   "outputs": [],
   "source": []
  },
  {
   "cell_type": "code",
   "execution_count": null,
   "metadata": {
    "collapsed": true
   },
   "outputs": [],
   "source": []
  }
 ],
 "metadata": {
  "kernelspec": {
   "display_name": "Python 3",
   "language": "python",
   "name": "python3"
  },
  "language_info": {
   "codemirror_mode": {
    "name": "ipython",
    "version": 3
   },
   "file_extension": ".py",
   "mimetype": "text/x-python",
   "name": "python",
   "nbconvert_exporter": "python",
   "pygments_lexer": "ipython3",
   "version": "3.6.0"
  }
 },
 "nbformat": 4,
 "nbformat_minor": 2
}
